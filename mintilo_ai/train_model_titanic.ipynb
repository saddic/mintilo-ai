{
 "cells": [
  {
   "cell_type": "markdown",
   "id": "12dcbbbf-9b4d-4937-9198-2f18fe985ef3",
   "metadata": {},
   "source": [
    "# Titanic  Survivership prediction\n",
    "\n",
    "The sinking of the Titanic is one of the most infamous shipwrecks in history.\n",
    "\n",
    "On April 15, 1912, during her maiden voyage, the widely considered “unsinkable” RMS Titanic sank after colliding with an iceberg. Unfortunately, there weren’t enough lifeboats for everyone onboard, resulting in the death of 1502 out of 2224 passengers and crew.\n",
    "\n",
    "While there was some element of luck involved in surviving, it seems some groups of people were more likely to survive than others.\n",
    "\n",
    "In this challenge, we will build a predictive model that answers the question: “what sorts of people were more likely to survive?” using passenger data (ie name, age, gender, socio-economic class, etc)."
   ]
  },
  {
   "cell_type": "markdown",
   "id": "9c13b700-21f1-4519-883e-4ca35047281d",
   "metadata": {},
   "source": [
    "# 1. Load data"
   ]
  },
  {
   "cell_type": "code",
   "execution_count": 159,
   "id": "2d9e0555-cffb-4655-938d-5b3064b1ebcf",
   "metadata": {
    "tags": []
   },
   "outputs": [],
   "source": [
    "# Import dependence\n",
    "import numpy as np\n",
    "import pandas as pd"
   ]
  },
  {
   "cell_type": "code",
   "execution_count": 160,
   "id": "add3415b-0ee2-4c95-aada-76ef2760766b",
   "metadata": {
    "tags": []
   },
   "outputs": [],
   "source": [
    "# Load data     ####################################################################################################################\n",
    "df1=pd.read_csv('train.csv')\n",
    "df2=pd.read_csv('test.csv')\n",
    "df=pd.concat([df1,df2])"
   ]
  },
  {
   "cell_type": "code",
   "execution_count": 161,
   "id": "33875dcc-ed0c-439a-a7cc-9c55f621b157",
   "metadata": {
    "tags": []
   },
   "outputs": [
    {
     "data": {
      "text/plain": [
       "(891, 12)"
      ]
     },
     "execution_count": 161,
     "metadata": {},
     "output_type": "execute_result"
    }
   ],
   "source": [
    "# Check data shape\n",
    "df1.shape"
   ]
  },
  {
   "cell_type": "code",
   "execution_count": 162,
   "id": "47e24d41-278e-4ce6-acf9-fac6d8f639e0",
   "metadata": {
    "tags": []
   },
   "outputs": [
    {
     "data": {
      "text/html": [
       "<div>\n",
       "<style scoped>\n",
       "    .dataframe tbody tr th:only-of-type {\n",
       "        vertical-align: middle;\n",
       "    }\n",
       "\n",
       "    .dataframe tbody tr th {\n",
       "        vertical-align: top;\n",
       "    }\n",
       "\n",
       "    .dataframe thead th {\n",
       "        text-align: right;\n",
       "    }\n",
       "</style>\n",
       "<table border=\"1\" class=\"dataframe\">\n",
       "  <thead>\n",
       "    <tr style=\"text-align: right;\">\n",
       "      <th></th>\n",
       "      <th>PassengerId</th>\n",
       "      <th>Survived</th>\n",
       "      <th>Pclass</th>\n",
       "      <th>Name</th>\n",
       "      <th>Sex</th>\n",
       "      <th>Age</th>\n",
       "      <th>SibSp</th>\n",
       "      <th>Parch</th>\n",
       "      <th>Ticket</th>\n",
       "      <th>Fare</th>\n",
       "      <th>Cabin</th>\n",
       "      <th>Embarked</th>\n",
       "    </tr>\n",
       "  </thead>\n",
       "  <tbody>\n",
       "    <tr>\n",
       "      <th>0</th>\n",
       "      <td>1</td>\n",
       "      <td>0.0</td>\n",
       "      <td>3</td>\n",
       "      <td>Braund, Mr. Owen Harris</td>\n",
       "      <td>male</td>\n",
       "      <td>22.0</td>\n",
       "      <td>1</td>\n",
       "      <td>0</td>\n",
       "      <td>A/5 21171</td>\n",
       "      <td>7.2500</td>\n",
       "      <td>NaN</td>\n",
       "      <td>S</td>\n",
       "    </tr>\n",
       "    <tr>\n",
       "      <th>1</th>\n",
       "      <td>2</td>\n",
       "      <td>1.0</td>\n",
       "      <td>1</td>\n",
       "      <td>Cumings, Mrs. John Bradley (Florence Briggs Th...</td>\n",
       "      <td>female</td>\n",
       "      <td>38.0</td>\n",
       "      <td>1</td>\n",
       "      <td>0</td>\n",
       "      <td>PC 17599</td>\n",
       "      <td>71.2833</td>\n",
       "      <td>C85</td>\n",
       "      <td>C</td>\n",
       "    </tr>\n",
       "    <tr>\n",
       "      <th>2</th>\n",
       "      <td>3</td>\n",
       "      <td>1.0</td>\n",
       "      <td>3</td>\n",
       "      <td>Heikkinen, Miss. Laina</td>\n",
       "      <td>female</td>\n",
       "      <td>26.0</td>\n",
       "      <td>0</td>\n",
       "      <td>0</td>\n",
       "      <td>STON/O2. 3101282</td>\n",
       "      <td>7.9250</td>\n",
       "      <td>NaN</td>\n",
       "      <td>S</td>\n",
       "    </tr>\n",
       "    <tr>\n",
       "      <th>3</th>\n",
       "      <td>4</td>\n",
       "      <td>1.0</td>\n",
       "      <td>1</td>\n",
       "      <td>Futrelle, Mrs. Jacques Heath (Lily May Peel)</td>\n",
       "      <td>female</td>\n",
       "      <td>35.0</td>\n",
       "      <td>1</td>\n",
       "      <td>0</td>\n",
       "      <td>113803</td>\n",
       "      <td>53.1000</td>\n",
       "      <td>C123</td>\n",
       "      <td>S</td>\n",
       "    </tr>\n",
       "    <tr>\n",
       "      <th>4</th>\n",
       "      <td>5</td>\n",
       "      <td>0.0</td>\n",
       "      <td>3</td>\n",
       "      <td>Allen, Mr. William Henry</td>\n",
       "      <td>male</td>\n",
       "      <td>35.0</td>\n",
       "      <td>0</td>\n",
       "      <td>0</td>\n",
       "      <td>373450</td>\n",
       "      <td>8.0500</td>\n",
       "      <td>NaN</td>\n",
       "      <td>S</td>\n",
       "    </tr>\n",
       "  </tbody>\n",
       "</table>\n",
       "</div>"
      ],
      "text/plain": [
       "   PassengerId  Survived  Pclass  \\\n",
       "0            1       0.0       3   \n",
       "1            2       1.0       1   \n",
       "2            3       1.0       3   \n",
       "3            4       1.0       1   \n",
       "4            5       0.0       3   \n",
       "\n",
       "                                                Name     Sex   Age  SibSp  \\\n",
       "0                            Braund, Mr. Owen Harris    male  22.0      1   \n",
       "1  Cumings, Mrs. John Bradley (Florence Briggs Th...  female  38.0      1   \n",
       "2                             Heikkinen, Miss. Laina  female  26.0      0   \n",
       "3       Futrelle, Mrs. Jacques Heath (Lily May Peel)  female  35.0      1   \n",
       "4                           Allen, Mr. William Henry    male  35.0      0   \n",
       "\n",
       "   Parch            Ticket     Fare Cabin Embarked  \n",
       "0      0         A/5 21171   7.2500   NaN        S  \n",
       "1      0          PC 17599  71.2833   C85        C  \n",
       "2      0  STON/O2. 3101282   7.9250   NaN        S  \n",
       "3      0            113803  53.1000  C123        S  \n",
       "4      0            373450   8.0500   NaN        S  "
      ]
     },
     "execution_count": 162,
     "metadata": {},
     "output_type": "execute_result"
    }
   ],
   "source": [
    "# Check loaded data\n",
    "df.head()"
   ]
  },
  {
   "cell_type": "code",
   "execution_count": 163,
   "id": "38854fb3",
   "metadata": {},
   "outputs": [
    {
     "data": {
      "text/plain": [
       "PassengerId       0\n",
       "Survived        418\n",
       "Pclass            0\n",
       "Name              0\n",
       "Sex               0\n",
       "Age             263\n",
       "SibSp             0\n",
       "Parch             0\n",
       "Ticket            0\n",
       "Fare              1\n",
       "Cabin          1014\n",
       "Embarked          2\n",
       "dtype: int64"
      ]
     },
     "execution_count": 163,
     "metadata": {},
     "output_type": "execute_result"
    }
   ],
   "source": [
    "df.isnull().sum()"
   ]
  },
  {
   "cell_type": "markdown",
   "id": "3a1dc87e-eeab-4784-a899-dc6c91e006bb",
   "metadata": {},
   "source": [
    "# 2. Explore data (EDA)"
   ]
  },
  {
   "cell_type": "code",
   "execution_count": 164,
   "id": "b43fd632-1c31-49cb-99bb-cb98a3b9f72c",
   "metadata": {
    "tags": []
   },
   "outputs": [],
   "source": [
    "# Import library\n",
    "from ydata_profiling import ProfileReport\n"
   ]
  },
  {
   "cell_type": "code",
   "execution_count": null,
   "id": "8ad05849",
   "metadata": {},
   "outputs": [],
   "source": []
  },
  {
   "cell_type": "code",
   "execution_count": 165,
   "id": "5db967b0-7f69-4eeb-8fbd-db640aeabccc",
   "metadata": {
    "tags": []
   },
   "outputs": [],
   "source": [
    "# Generate EDA report\n",
    "profile_report = ProfileReport(df, title=\"titanic\", minimal=True)"
   ]
  },
  {
   "cell_type": "code",
   "execution_count": null,
   "id": "6a0a3611-cacf-4107-a993-100b6bea6e25",
   "metadata": {
    "tags": []
   },
   "outputs": [
    {
     "data": {
      "application/vnd.jupyter.widget-view+json": {
       "model_id": "f8b786fbc52c49eda30767bccda8ad09",
       "version_major": 2,
       "version_minor": 0
      },
      "text/plain": [
       "Summarize dataset:   0%|          | 0/5 [00:00<?, ?it/s]"
      ]
     },
     "metadata": {},
     "output_type": "display_data"
    },
    {
     "data": {
      "application/vnd.jupyter.widget-view+json": {
       "model_id": "5cba2b6075bf4500aeb60fa241d8cf30",
       "version_major": 2,
       "version_minor": 0
      },
      "text/plain": [
       "Generate report structure:   0%|          | 0/1 [00:00<?, ?it/s]"
      ]
     },
     "metadata": {},
     "output_type": "display_data"
    },
    {
     "data": {
      "application/vnd.jupyter.widget-view+json": {
       "model_id": "e98d839f7ac544a08f5d3444596907f7",
       "version_major": 2,
       "version_minor": 0
      },
      "text/plain": [
       "Render HTML:   0%|          | 0/1 [00:00<?, ?it/s]"
      ]
     },
     "metadata": {},
     "output_type": "display_data"
    }
   ],
   "source": [
    "# Display EDA report\n",
    "profile_report.to_notebook_iframe()"
   ]
  },
  {
   "cell_type": "markdown",
   "id": "8089d196-e5f4-4675-b86c-50a1a87ef934",
   "metadata": {},
   "source": [
    "# 3. Build Machine Learning (ML) models"
   ]
  },
  {
   "cell_type": "code",
   "execution_count": 167,
   "id": "d0e5c7c6-7dae-4fe9-935a-4e5b801a4a29",
   "metadata": {
    "tags": []
   },
   "outputs": [],
   "source": [
    "# Derive label / target variable  ###################################################################\n",
    "df['Survived']=df['Survived'].dropna().astype('int')"
   ]
  },
  {
   "cell_type": "code",
   "execution_count": 168,
   "id": "637ebc9b-9eef-4879-a9da-951eda8a718b",
   "metadata": {
    "tags": []
   },
   "outputs": [
    {
     "data": {
      "text/plain": [
       "0    804\n",
       "1    505\n",
       "Name: Survived, dtype: int64"
      ]
     },
     "execution_count": 168,
     "metadata": {},
     "output_type": "execute_result"
    }
   ],
   "source": [
    "# Further sanity checks\n",
    "df['Survived'].value_counts()"
   ]
  },
  {
   "cell_type": "code",
   "execution_count": 169,
   "id": "8f57fddc-a24e-4a7b-92cc-5105db769943",
   "metadata": {
    "tags": []
   },
   "outputs": [
    {
     "data": {
      "text/plain": [
       "array([0, 1])"
      ]
     },
     "execution_count": 169,
     "metadata": {},
     "output_type": "execute_result"
    }
   ],
   "source": [
    "# Further sanity checks\n",
    "df['Survived'].unique()"
   ]
  },
  {
   "cell_type": "markdown",
   "id": "319d0e17-5c7e-4311-913a-97f46e209dde",
   "metadata": {},
   "source": [
    "## 3.1 Split data into training / validation sets"
   ]
  },
  {
   "cell_type": "code",
   "execution_count": 170,
   "id": "74cc78f3-abc6-4b1c-9429-c13c9f9106a1",
   "metadata": {
    "tags": []
   },
   "outputs": [],
   "source": [
    "# Get label and features  ##########################################################################\n",
    "X = df.drop(['Survived','PassengerId','Cabin','Name','Ticket'], axis='columns')\n",
    "y = df[['Survived']]"
   ]
  },
  {
   "cell_type": "code",
   "execution_count": 171,
   "id": "d412e6ec-555d-4117-9cb7-4b06d92d77d6",
   "metadata": {
    "tags": []
   },
   "outputs": [
    {
     "data": {
      "text/html": [
       "<div>\n",
       "<style scoped>\n",
       "    .dataframe tbody tr th:only-of-type {\n",
       "        vertical-align: middle;\n",
       "    }\n",
       "\n",
       "    .dataframe tbody tr th {\n",
       "        vertical-align: top;\n",
       "    }\n",
       "\n",
       "    .dataframe thead th {\n",
       "        text-align: right;\n",
       "    }\n",
       "</style>\n",
       "<table border=\"1\" class=\"dataframe\">\n",
       "  <thead>\n",
       "    <tr style=\"text-align: right;\">\n",
       "      <th></th>\n",
       "      <th>Pclass</th>\n",
       "      <th>Sex</th>\n",
       "      <th>Age</th>\n",
       "      <th>SibSp</th>\n",
       "      <th>Parch</th>\n",
       "      <th>Fare</th>\n",
       "      <th>Embarked</th>\n",
       "    </tr>\n",
       "  </thead>\n",
       "  <tbody>\n",
       "    <tr>\n",
       "      <th>0</th>\n",
       "      <td>3</td>\n",
       "      <td>male</td>\n",
       "      <td>22.0</td>\n",
       "      <td>1</td>\n",
       "      <td>0</td>\n",
       "      <td>7.2500</td>\n",
       "      <td>S</td>\n",
       "    </tr>\n",
       "    <tr>\n",
       "      <th>1</th>\n",
       "      <td>1</td>\n",
       "      <td>female</td>\n",
       "      <td>38.0</td>\n",
       "      <td>1</td>\n",
       "      <td>0</td>\n",
       "      <td>71.2833</td>\n",
       "      <td>C</td>\n",
       "    </tr>\n",
       "    <tr>\n",
       "      <th>2</th>\n",
       "      <td>3</td>\n",
       "      <td>female</td>\n",
       "      <td>26.0</td>\n",
       "      <td>0</td>\n",
       "      <td>0</td>\n",
       "      <td>7.9250</td>\n",
       "      <td>S</td>\n",
       "    </tr>\n",
       "    <tr>\n",
       "      <th>3</th>\n",
       "      <td>1</td>\n",
       "      <td>female</td>\n",
       "      <td>35.0</td>\n",
       "      <td>1</td>\n",
       "      <td>0</td>\n",
       "      <td>53.1000</td>\n",
       "      <td>S</td>\n",
       "    </tr>\n",
       "    <tr>\n",
       "      <th>4</th>\n",
       "      <td>3</td>\n",
       "      <td>male</td>\n",
       "      <td>35.0</td>\n",
       "      <td>0</td>\n",
       "      <td>0</td>\n",
       "      <td>8.0500</td>\n",
       "      <td>S</td>\n",
       "    </tr>\n",
       "  </tbody>\n",
       "</table>\n",
       "</div>"
      ],
      "text/plain": [
       "   Pclass     Sex   Age  SibSp  Parch     Fare Embarked\n",
       "0       3    male  22.0      1      0   7.2500        S\n",
       "1       1  female  38.0      1      0  71.2833        C\n",
       "2       3  female  26.0      0      0   7.9250        S\n",
       "3       1  female  35.0      1      0  53.1000        S\n",
       "4       3    male  35.0      0      0   8.0500        S"
      ]
     },
     "execution_count": 171,
     "metadata": {},
     "output_type": "execute_result"
    }
   ],
   "source": [
    "# Check data\n",
    "X.head()"
   ]
  },
  {
   "cell_type": "code",
   "execution_count": 172,
   "id": "d84e4b3b-0f4f-4ffd-957d-51143b152c77",
   "metadata": {
    "tags": []
   },
   "outputs": [
    {
     "data": {
      "text/html": [
       "<div>\n",
       "<style scoped>\n",
       "    .dataframe tbody tr th:only-of-type {\n",
       "        vertical-align: middle;\n",
       "    }\n",
       "\n",
       "    .dataframe tbody tr th {\n",
       "        vertical-align: top;\n",
       "    }\n",
       "\n",
       "    .dataframe thead th {\n",
       "        text-align: right;\n",
       "    }\n",
       "</style>\n",
       "<table border=\"1\" class=\"dataframe\">\n",
       "  <thead>\n",
       "    <tr style=\"text-align: right;\">\n",
       "      <th></th>\n",
       "      <th>Survived</th>\n",
       "    </tr>\n",
       "  </thead>\n",
       "  <tbody>\n",
       "    <tr>\n",
       "      <th>0</th>\n",
       "      <td>0</td>\n",
       "    </tr>\n",
       "    <tr>\n",
       "      <th>1</th>\n",
       "      <td>1</td>\n",
       "    </tr>\n",
       "    <tr>\n",
       "      <th>2</th>\n",
       "      <td>1</td>\n",
       "    </tr>\n",
       "    <tr>\n",
       "      <th>3</th>\n",
       "      <td>1</td>\n",
       "    </tr>\n",
       "    <tr>\n",
       "      <th>4</th>\n",
       "      <td>0</td>\n",
       "    </tr>\n",
       "  </tbody>\n",
       "</table>\n",
       "</div>"
      ],
      "text/plain": [
       "   Survived\n",
       "0         0\n",
       "1         1\n",
       "2         1\n",
       "3         1\n",
       "4         0"
      ]
     },
     "execution_count": 172,
     "metadata": {},
     "output_type": "execute_result"
    }
   ],
   "source": [
    "y.head()"
   ]
  },
  {
   "cell_type": "code",
   "execution_count": 173,
   "id": "f21f6b42-f25d-47f7-9734-d1769136fe44",
   "metadata": {
    "tags": []
   },
   "outputs": [
    {
     "name": "stdout",
     "output_type": "stream",
     "text": [
      "<class 'pandas.core.frame.DataFrame'>\n",
      "Int64Index: 1309 entries, 0 to 417\n",
      "Data columns (total 7 columns):\n",
      " #   Column    Non-Null Count  Dtype  \n",
      "---  ------    --------------  -----  \n",
      " 0   Pclass    1309 non-null   int64  \n",
      " 1   Sex       1309 non-null   object \n",
      " 2   Age       1046 non-null   float64\n",
      " 3   SibSp     1309 non-null   int64  \n",
      " 4   Parch     1309 non-null   int64  \n",
      " 5   Fare      1308 non-null   float64\n",
      " 6   Embarked  1307 non-null   object \n",
      "dtypes: float64(2), int64(3), object(2)\n",
      "memory usage: 81.8+ KB\n"
     ]
    }
   ],
   "source": [
    "# Get list of categorical and numeric features  ###################################################\n",
    "# We can use dataframe.info() to derive type of features\n",
    "X.info()"
   ]
  },
  {
   "cell_type": "code",
   "execution_count": 174,
   "id": "e5af9a48-717b-4b59-9bd5-e406af1184f4",
   "metadata": {
    "tags": []
   },
   "outputs": [
    {
     "name": "stdout",
     "output_type": "stream",
     "text": [
      "Categorical Features: ['Pclass', 'Sex', 'Embarked']\n",
      "\n",
      "Numerical Features: ['Age', 'SibSp', 'Parch', 'Fare']\n"
     ]
    }
   ],
   "source": [
    "X['Pclass']=X['Pclass'].astype('object')\n",
    "\n",
    "features_cat = X.select_dtypes(include='object').columns.tolist()\n",
    "features_num = X.select_dtypes(include=['int64', 'float64']).columns.tolist()\n",
    "\n",
    "print(\"Categorical Features:\", features_cat)\n",
    "print(\"\\nNumerical Features:\", features_num)"
   ]
  },
  {
   "cell_type": "code",
   "execution_count": 175,
   "id": "d4edbf07-2d54-4f3f-a38f-b9657d737d4a",
   "metadata": {
    "tags": []
   },
   "outputs": [
    {
     "name": "stdout",
     "output_type": "stream",
     "text": [
      "X_train (1047, 7)\n",
      "y_train (1047, 1)\n",
      "\n",
      "\n",
      "X_val (262, 7)\n",
      "y_val (262, 1)\n",
      "\n",
      "\n",
      "Survivership (TRAIN):\n",
      " 0    61.0\n",
      "1    39.0\n",
      "Name: Survived, dtype: float64\n",
      "\n",
      " Survivership (VAL):\n",
      " 0    61.0\n",
      "1    39.0\n",
      "Name: Survived, dtype: float64\n"
     ]
    }
   ],
   "source": [
    "# Split data into training and validation sets  #################################################\n",
    "from sklearn.model_selection import train_test_split\n",
    "\n",
    "RANDOM_STATE = 101\n",
    "TEST_SIZE = 0.20\n",
    "\n",
    "X_train, X_val, y_train, y_val = train_test_split(X, y, stratify=y, \n",
    "                                                  test_size=TEST_SIZE, random_state=RANDOM_STATE)\n",
    "\n",
    "# Sanity checks\n",
    "print('X_train', X_train.shape)\n",
    "print('y_train', y_train.shape)\n",
    "print('\\n')\n",
    "print('X_val', X_val.shape)\n",
    "print('y_val', y_val.shape)\n",
    "print('\\n')\n",
    "print('Survivership (TRAIN):\\n', y_train['Survived'].value_counts(dropna=False, normalize=True).round(2) * 100)\n",
    "print('\\n Survivership (VAL):\\n', y_val['Survived'].value_counts(dropna=False, normalize=True).round(2) * 100)"
   ]
  },
  {
   "cell_type": "markdown",
   "id": "f2098c4c-57c4-4667-a223-2514f5390091",
   "metadata": {},
   "source": [
    "## 3.2 Impute missing values"
   ]
  },
  {
   "cell_type": "code",
   "execution_count": 176,
   "id": "a211d688-2bbb-49f9-ba5e-0c5e76ba1508",
   "metadata": {
    "tags": []
   },
   "outputs": [],
   "source": [
    "# Get data by feature type\n",
    "X_train_cat = X_train[features_cat]\n",
    "X_val_cat = X_val[features_cat]\n",
    "\n",
    "X_train_num = X_train[features_num]\n",
    "X_val_num = X_val[features_num]"
   ]
  },
  {
   "cell_type": "code",
   "execution_count": 177,
   "id": "785cbaa2-ae90-4493-9aed-472c4a0b250d",
   "metadata": {},
   "outputs": [
    {
     "data": {
      "text/html": [
       "<div>\n",
       "<style scoped>\n",
       "    .dataframe tbody tr th:only-of-type {\n",
       "        vertical-align: middle;\n",
       "    }\n",
       "\n",
       "    .dataframe tbody tr th {\n",
       "        vertical-align: top;\n",
       "    }\n",
       "\n",
       "    .dataframe thead th {\n",
       "        text-align: right;\n",
       "    }\n",
       "</style>\n",
       "<table border=\"1\" class=\"dataframe\">\n",
       "  <thead>\n",
       "    <tr style=\"text-align: right;\">\n",
       "      <th></th>\n",
       "      <th>Pclass</th>\n",
       "      <th>Sex</th>\n",
       "      <th>Embarked</th>\n",
       "    </tr>\n",
       "  </thead>\n",
       "  <tbody>\n",
       "    <tr>\n",
       "      <th>198</th>\n",
       "      <td>2</td>\n",
       "      <td>male</td>\n",
       "      <td>S</td>\n",
       "    </tr>\n",
       "    <tr>\n",
       "      <th>266</th>\n",
       "      <td>1</td>\n",
       "      <td>male</td>\n",
       "      <td>S</td>\n",
       "    </tr>\n",
       "    <tr>\n",
       "      <th>678</th>\n",
       "      <td>3</td>\n",
       "      <td>female</td>\n",
       "      <td>S</td>\n",
       "    </tr>\n",
       "    <tr>\n",
       "      <th>535</th>\n",
       "      <td>2</td>\n",
       "      <td>female</td>\n",
       "      <td>S</td>\n",
       "    </tr>\n",
       "    <tr>\n",
       "      <th>47</th>\n",
       "      <td>3</td>\n",
       "      <td>male</td>\n",
       "      <td>Q</td>\n",
       "    </tr>\n",
       "  </tbody>\n",
       "</table>\n",
       "</div>"
      ],
      "text/plain": [
       "    Pclass     Sex Embarked\n",
       "198      2    male        S\n",
       "266      1    male        S\n",
       "678      3  female        S\n",
       "535      2  female        S\n",
       "47       3    male        Q"
      ]
     },
     "execution_count": 177,
     "metadata": {},
     "output_type": "execute_result"
    }
   ],
   "source": [
    "X_train_cat.head()"
   ]
  },
  {
   "cell_type": "code",
   "execution_count": 178,
   "id": "d212266e-026e-4f9c-aa40-bee11cfa7f52",
   "metadata": {
    "tags": []
   },
   "outputs": [
    {
     "data": {
      "text/html": [
       "<div>\n",
       "<style scoped>\n",
       "    .dataframe tbody tr th:only-of-type {\n",
       "        vertical-align: middle;\n",
       "    }\n",
       "\n",
       "    .dataframe tbody tr th {\n",
       "        vertical-align: top;\n",
       "    }\n",
       "\n",
       "    .dataframe thead th {\n",
       "        text-align: right;\n",
       "    }\n",
       "</style>\n",
       "<table border=\"1\" class=\"dataframe\">\n",
       "  <thead>\n",
       "    <tr style=\"text-align: right;\">\n",
       "      <th></th>\n",
       "      <th>Age</th>\n",
       "      <th>SibSp</th>\n",
       "      <th>Parch</th>\n",
       "      <th>Fare</th>\n",
       "    </tr>\n",
       "  </thead>\n",
       "  <tbody>\n",
       "    <tr>\n",
       "      <th>198</th>\n",
       "      <td>23.0</td>\n",
       "      <td>0</td>\n",
       "      <td>0</td>\n",
       "      <td>10.50</td>\n",
       "    </tr>\n",
       "    <tr>\n",
       "      <th>266</th>\n",
       "      <td>NaN</td>\n",
       "      <td>0</td>\n",
       "      <td>0</td>\n",
       "      <td>0.00</td>\n",
       "    </tr>\n",
       "    <tr>\n",
       "      <th>678</th>\n",
       "      <td>43.0</td>\n",
       "      <td>1</td>\n",
       "      <td>6</td>\n",
       "      <td>46.90</td>\n",
       "    </tr>\n",
       "    <tr>\n",
       "      <th>535</th>\n",
       "      <td>7.0</td>\n",
       "      <td>0</td>\n",
       "      <td>2</td>\n",
       "      <td>26.25</td>\n",
       "    </tr>\n",
       "    <tr>\n",
       "      <th>47</th>\n",
       "      <td>NaN</td>\n",
       "      <td>0</td>\n",
       "      <td>0</td>\n",
       "      <td>7.75</td>\n",
       "    </tr>\n",
       "  </tbody>\n",
       "</table>\n",
       "</div>"
      ],
      "text/plain": [
       "      Age  SibSp  Parch   Fare\n",
       "198  23.0      0      0  10.50\n",
       "266   NaN      0      0   0.00\n",
       "678  43.0      1      6  46.90\n",
       "535   7.0      0      2  26.25\n",
       "47    NaN      0      0   7.75"
      ]
     },
     "execution_count": 178,
     "metadata": {},
     "output_type": "execute_result"
    }
   ],
   "source": [
    "X_train_num.head()"
   ]
  },
  {
   "cell_type": "code",
   "execution_count": 179,
   "id": "78c0ca41-d3d8-4887-a56c-51b797ba3d4e",
   "metadata": {
    "tags": []
   },
   "outputs": [
    {
     "data": {
      "text/plain": [
       "Pclass      0\n",
       "Sex         0\n",
       "Embarked    1\n",
       "dtype: int64"
      ]
     },
     "execution_count": 179,
     "metadata": {},
     "output_type": "execute_result"
    }
   ],
   "source": [
    "# Check missing data in categorical features\n",
    "# IMPORTANT - No missing data!\n",
    "X_train_cat.isnull().sum()"
   ]
  },
  {
   "cell_type": "code",
   "execution_count": 180,
   "id": "f9c0a966-5e7d-42ff-9bb8-a57ba654bf73",
   "metadata": {
    "tags": []
   },
   "outputs": [
    {
     "data": {
      "text/plain": [
       "Age      207\n",
       "SibSp      0\n",
       "Parch      0\n",
       "Fare       1\n",
       "dtype: int64"
      ]
     },
     "execution_count": 180,
     "metadata": {},
     "output_type": "execute_result"
    }
   ],
   "source": [
    "# Check missing data in numeric features\n",
    "# IMPORTANT - Two features have missing data!\n",
    "X_train_num.isnull().sum()"
   ]
  },
  {
   "cell_type": "code",
   "execution_count": 181,
   "id": "091cb9a7-e1b9-482a-836d-e97e0a79e343",
   "metadata": {
    "tags": []
   },
   "outputs": [
    {
     "name": "stdout",
     "output_type": "stream",
     "text": [
      "Number of missing values (BEFORE):\n",
      " Pclass      0\n",
      "Sex         0\n",
      "Embarked    1\n",
      "dtype: int64\n",
      "\n",
      "Number of missing values (AFTER):\n",
      " Pclass      0\n",
      "Sex         0\n",
      "Embarked    0\n",
      "dtype: int64\n"
     ]
    }
   ],
   "source": [
    "# Impute categorical features     ###############################################################################################################\n",
    "# IMPORTANT - Although no missing data here, we show the framework for imputing missing data!\n",
    "\n",
    "from sklearn.impute import SimpleImputer\n",
    "\n",
    "# Apply imputer\n",
    "imputer_cat = SimpleImputer(strategy='most_frequent')\n",
    "\n",
    "X_train_cat_imputed = imputer_cat.fit_transform(X_train_cat)\n",
    "X_train_cat_imputed = pd.DataFrame(X_train_cat_imputed, columns=X_train_cat.columns)\n",
    "\n",
    "# Sanity checks\n",
    "print('Number of missing values (BEFORE):\\n', X_train_cat.isnull().sum())\n",
    "print('\\nNumber of missing values (AFTER):\\n', X_train_cat_imputed.isnull().sum())"
   ]
  },
  {
   "cell_type": "code",
   "execution_count": 182,
   "id": "0dbe031a-9a3c-44f3-a445-656a8f0cb41a",
   "metadata": {
    "tags": []
   },
   "outputs": [
    {
     "name": "stdout",
     "output_type": "stream",
     "text": [
      "Number of missing values (BEFORE):\n",
      " Pclass      0\n",
      "Sex         0\n",
      "Embarked    1\n",
      "dtype: int64\n",
      "\n",
      "Number of missing values (AFTER):\n",
      " Pclass      0\n",
      "Sex         0\n",
      "Embarked    0\n",
      "dtype: int64\n"
     ]
    }
   ],
   "source": [
    "# Impute validation set as well\n",
    "X_val_cat_imputed = imputer_cat.transform(X_val_cat)\n",
    "X_val_cat_imputed = pd.DataFrame(X_val_cat_imputed, columns=X_val_cat.columns)\n",
    "\n",
    "# Sanity checks\n",
    "print('Number of missing values (BEFORE):\\n', X_val_cat.isnull().sum())\n",
    "print('\\nNumber of missing values (AFTER):\\n', X_val_cat_imputed.isnull().sum())"
   ]
  },
  {
   "cell_type": "code",
   "execution_count": 183,
   "id": "0a9f6c2e-61a6-4626-a79c-e38ff6379a68",
   "metadata": {
    "tags": []
   },
   "outputs": [
    {
     "name": "stdout",
     "output_type": "stream",
     "text": [
      "Number of missing values (BEFORE):\n",
      " Age      207\n",
      "SibSp      0\n",
      "Parch      0\n",
      "Fare       1\n",
      "dtype: int64\n",
      "\n",
      "Number of missing values (AFTER):\n",
      " Age      0\n",
      "SibSp    0\n",
      "Parch    0\n",
      "Fare     0\n",
      "dtype: int64\n"
     ]
    }
   ],
   "source": [
    "# Impute numeric features     ###############################################################################################################\n",
    "imputer_num = SimpleImputer(strategy='median')\n",
    "\n",
    "X_train_num_imputed = imputer_num.fit_transform(X_train_num)\n",
    "X_train_num_imputed = pd.DataFrame(X_train_num_imputed, columns=X_train_num.columns)\n",
    "\n",
    "# Sanity checks\n",
    "print('Number of missing values (BEFORE):\\n', X_train_num.isnull().sum())\n",
    "print('\\nNumber of missing values (AFTER):\\n', X_train_num_imputed.isnull().sum())"
   ]
  },
  {
   "cell_type": "code",
   "execution_count": 184,
   "id": "be029383-c3e2-4f54-b50e-632a4458dfdf",
   "metadata": {
    "tags": []
   },
   "outputs": [
    {
     "name": "stdout",
     "output_type": "stream",
     "text": [
      "Number of missing values (BEFORE):\n",
      " Age      56\n",
      "SibSp     0\n",
      "Parch     0\n",
      "Fare      0\n",
      "dtype: int64\n",
      "\n",
      "Number of missing values (AFTER):\n",
      " Age      0\n",
      "SibSp    0\n",
      "Parch    0\n",
      "Fare     0\n",
      "dtype: int64\n"
     ]
    }
   ],
   "source": [
    "# Impute validation set as well\n",
    "X_val_num_imputed = imputer_num.transform(X_val_num)\n",
    "X_val_num_imputed = pd.DataFrame(X_val_num_imputed, columns=X_val_num.columns)\n",
    "\n",
    "# Sanity checks\n",
    "print('Number of missing values (BEFORE):\\n', X_val_num.isnull().sum())\n",
    "print('\\nNumber of missing values (AFTER):\\n', X_val_num_imputed.isnull().sum())"
   ]
  },
  {
   "cell_type": "code",
   "execution_count": 185,
   "id": "96d8fc4c-4ebf-4c93-8f3f-a03a8d99e913",
   "metadata": {
    "tags": []
   },
   "outputs": [],
   "source": [
    "# Save imputers for future use   ####################################################################################################\n",
    "\n",
    "# Import library\n",
    "import pickle\n",
    "    \n",
    "with open('imputer_cat', 'wb') as pkl:\n",
    "    pickle.dump(imputer_cat, pkl)\n",
    "\n",
    "with open('imputer_num', 'wb') as pkl:\n",
    "    pickle.dump(imputer_num, pkl)"
   ]
  },
  {
   "cell_type": "markdown",
   "id": "e4f10152-4d4f-4085-ba6b-bfdc2f487f07",
   "metadata": {},
   "source": [
    "## 3.3 Feature scaling or normalization for numeric features"
   ]
  },
  {
   "cell_type": "code",
   "execution_count": 186,
   "id": "aebc86a0-72fd-4f3a-a02b-db35cb7c3714",
   "metadata": {
    "tags": []
   },
   "outputs": [
    {
     "data": {
      "text/html": [
       "<div>\n",
       "<style scoped>\n",
       "    .dataframe tbody tr th:only-of-type {\n",
       "        vertical-align: middle;\n",
       "    }\n",
       "\n",
       "    .dataframe tbody tr th {\n",
       "        vertical-align: top;\n",
       "    }\n",
       "\n",
       "    .dataframe thead th {\n",
       "        text-align: right;\n",
       "    }\n",
       "</style>\n",
       "<table border=\"1\" class=\"dataframe\">\n",
       "  <thead>\n",
       "    <tr style=\"text-align: right;\">\n",
       "      <th></th>\n",
       "      <th>Age</th>\n",
       "      <th>SibSp</th>\n",
       "      <th>Parch</th>\n",
       "      <th>Fare</th>\n",
       "    </tr>\n",
       "  </thead>\n",
       "  <tbody>\n",
       "    <tr>\n",
       "      <th>0</th>\n",
       "      <td>-0.497337</td>\n",
       "      <td>-0.478676</td>\n",
       "      <td>-0.447079</td>\n",
       "      <td>-0.456085</td>\n",
       "    </tr>\n",
       "    <tr>\n",
       "      <th>1</th>\n",
       "      <td>-0.109229</td>\n",
       "      <td>-0.478676</td>\n",
       "      <td>-0.447079</td>\n",
       "      <td>-0.662177</td>\n",
       "    </tr>\n",
       "    <tr>\n",
       "      <th>2</th>\n",
       "      <td>1.055094</td>\n",
       "      <td>0.437547</td>\n",
       "      <td>6.288048</td>\n",
       "      <td>0.258369</td>\n",
       "    </tr>\n",
       "    <tr>\n",
       "      <th>3</th>\n",
       "      <td>-1.739281</td>\n",
       "      <td>-0.478676</td>\n",
       "      <td>1.797964</td>\n",
       "      <td>-0.146946</td>\n",
       "    </tr>\n",
       "    <tr>\n",
       "      <th>4</th>\n",
       "      <td>-0.109229</td>\n",
       "      <td>-0.478676</td>\n",
       "      <td>-0.447079</td>\n",
       "      <td>-0.510061</td>\n",
       "    </tr>\n",
       "  </tbody>\n",
       "</table>\n",
       "</div>"
      ],
      "text/plain": [
       "        Age     SibSp     Parch      Fare\n",
       "0 -0.497337 -0.478676 -0.447079 -0.456085\n",
       "1 -0.109229 -0.478676 -0.447079 -0.662177\n",
       "2  1.055094  0.437547  6.288048  0.258369\n",
       "3 -1.739281 -0.478676  1.797964 -0.146946\n",
       "4 -0.109229 -0.478676 -0.447079 -0.510061"
      ]
     },
     "execution_count": 186,
     "metadata": {},
     "output_type": "execute_result"
    }
   ],
   "source": [
    "# Feature scaling for numeric variables   ############################################################################################\n",
    "\n",
    "# Import library\n",
    "from sklearn.preprocessing import StandardScaler\n",
    "\n",
    "# Apply feature scaling\n",
    "scaler = StandardScaler()\n",
    "\n",
    "X_train_num_scaler = scaler.fit_transform(X_train_num_imputed)\n",
    "X_train_num_scaler = pd.DataFrame(X_train_num_scaler, columns=X_train_num_imputed.columns)\n",
    "\n",
    "# Sanity checks\n",
    "X_train_num_scaler.head()"
   ]
  },
  {
   "cell_type": "code",
   "execution_count": 187,
   "id": "50ad6ad7-6f2e-4411-bfa3-45183ad0bba3",
   "metadata": {
    "tags": []
   },
   "outputs": [
    {
     "data": {
      "text/html": [
       "<div>\n",
       "<style scoped>\n",
       "    .dataframe tbody tr th:only-of-type {\n",
       "        vertical-align: middle;\n",
       "    }\n",
       "\n",
       "    .dataframe tbody tr th {\n",
       "        vertical-align: top;\n",
       "    }\n",
       "\n",
       "    .dataframe thead th {\n",
       "        text-align: right;\n",
       "    }\n",
       "</style>\n",
       "<table border=\"1\" class=\"dataframe\">\n",
       "  <thead>\n",
       "    <tr style=\"text-align: right;\">\n",
       "      <th></th>\n",
       "      <th>Age</th>\n",
       "      <th>SibSp</th>\n",
       "      <th>Parch</th>\n",
       "      <th>Fare</th>\n",
       "    </tr>\n",
       "  </thead>\n",
       "  <tbody>\n",
       "    <tr>\n",
       "      <th>0</th>\n",
       "      <td>1.365580</td>\n",
       "      <td>-0.478676</td>\n",
       "      <td>-0.447079</td>\n",
       "      <td>-0.519875</td>\n",
       "    </tr>\n",
       "    <tr>\n",
       "      <th>1</th>\n",
       "      <td>-0.652580</td>\n",
       "      <td>1.353770</td>\n",
       "      <td>-0.447079</td>\n",
       "      <td>-0.188164</td>\n",
       "    </tr>\n",
       "    <tr>\n",
       "      <th>2</th>\n",
       "      <td>1.598444</td>\n",
       "      <td>-0.478676</td>\n",
       "      <td>-0.447079</td>\n",
       "      <td>-0.504173</td>\n",
       "    </tr>\n",
       "    <tr>\n",
       "      <th>3</th>\n",
       "      <td>-0.109229</td>\n",
       "      <td>-0.478676</td>\n",
       "      <td>-0.447079</td>\n",
       "      <td>-0.407015</td>\n",
       "    </tr>\n",
       "    <tr>\n",
       "      <th>4</th>\n",
       "      <td>-0.109229</td>\n",
       "      <td>2.269994</td>\n",
       "      <td>0.675443</td>\n",
       "      <td>-0.162321</td>\n",
       "    </tr>\n",
       "  </tbody>\n",
       "</table>\n",
       "</div>"
      ],
      "text/plain": [
       "        Age     SibSp     Parch      Fare\n",
       "0  1.365580 -0.478676 -0.447079 -0.519875\n",
       "1 -0.652580  1.353770 -0.447079 -0.188164\n",
       "2  1.598444 -0.478676 -0.447079 -0.504173\n",
       "3 -0.109229 -0.478676 -0.447079 -0.407015\n",
       "4 -0.109229  2.269994  0.675443 -0.162321"
      ]
     },
     "execution_count": 187,
     "metadata": {},
     "output_type": "execute_result"
    }
   ],
   "source": [
    "# Scale validation data as well\n",
    "X_val_num_scaler = scaler.transform(X_val_num_imputed)\n",
    "X_val_num_scaler = pd.DataFrame(X_val_num_scaler, columns=X_val_num_imputed.columns)\n",
    "\n",
    "# Sanity checks\n",
    "X_val_num_scaler.head()"
   ]
  },
  {
   "cell_type": "code",
   "execution_count": 188,
   "id": "4f6d8bba-1474-406c-80a7-5e9422b1ce4b",
   "metadata": {
    "tags": []
   },
   "outputs": [],
   "source": [
    "# Save scaler for later use\n",
    "with open('scaler', 'wb') as pkl:\n",
    "    pickle.dump(scaler, pkl)"
   ]
  },
  {
   "cell_type": "markdown",
   "id": "a584f1fc-93b9-4743-8046-59fde03ed63b",
   "metadata": {},
   "source": [
    "## 3.4 One-Hot Encoding for categorical features"
   ]
  },
  {
   "cell_type": "code",
   "execution_count": 189,
   "id": "96bc5c73-a6dd-4688-a7c6-11eb4a0b7869",
   "metadata": {
    "tags": []
   },
   "outputs": [
    {
     "data": {
      "text/html": [
       "<div>\n",
       "<style scoped>\n",
       "    .dataframe tbody tr th:only-of-type {\n",
       "        vertical-align: middle;\n",
       "    }\n",
       "\n",
       "    .dataframe tbody tr th {\n",
       "        vertical-align: top;\n",
       "    }\n",
       "\n",
       "    .dataframe thead th {\n",
       "        text-align: right;\n",
       "    }\n",
       "</style>\n",
       "<table border=\"1\" class=\"dataframe\">\n",
       "  <thead>\n",
       "    <tr style=\"text-align: right;\">\n",
       "      <th></th>\n",
       "      <th>Pclass</th>\n",
       "      <th>Sex</th>\n",
       "      <th>Embarked</th>\n",
       "    </tr>\n",
       "  </thead>\n",
       "  <tbody>\n",
       "    <tr>\n",
       "      <th>0</th>\n",
       "      <td>2</td>\n",
       "      <td>male</td>\n",
       "      <td>S</td>\n",
       "    </tr>\n",
       "    <tr>\n",
       "      <th>1</th>\n",
       "      <td>1</td>\n",
       "      <td>male</td>\n",
       "      <td>S</td>\n",
       "    </tr>\n",
       "    <tr>\n",
       "      <th>2</th>\n",
       "      <td>3</td>\n",
       "      <td>female</td>\n",
       "      <td>S</td>\n",
       "    </tr>\n",
       "    <tr>\n",
       "      <th>3</th>\n",
       "      <td>2</td>\n",
       "      <td>female</td>\n",
       "      <td>S</td>\n",
       "    </tr>\n",
       "    <tr>\n",
       "      <th>4</th>\n",
       "      <td>3</td>\n",
       "      <td>male</td>\n",
       "      <td>Q</td>\n",
       "    </tr>\n",
       "  </tbody>\n",
       "</table>\n",
       "</div>"
      ],
      "text/plain": [
       "  Pclass     Sex Embarked\n",
       "0      2    male        S\n",
       "1      1    male        S\n",
       "2      3  female        S\n",
       "3      2  female        S\n",
       "4      3    male        Q"
      ]
     },
     "execution_count": 189,
     "metadata": {},
     "output_type": "execute_result"
    }
   ],
   "source": [
    "# Check data before Encoding!\n",
    "X_train_cat_imputed.head()"
   ]
  },
  {
   "cell_type": "code",
   "execution_count": 190,
   "id": "5a9b3c6a-4c11-4063-a149-ebf24e38a1df",
   "metadata": {
    "tags": []
   },
   "outputs": [
    {
     "data": {
      "text/html": [
       "<div>\n",
       "<style scoped>\n",
       "    .dataframe tbody tr th:only-of-type {\n",
       "        vertical-align: middle;\n",
       "    }\n",
       "\n",
       "    .dataframe tbody tr th {\n",
       "        vertical-align: top;\n",
       "    }\n",
       "\n",
       "    .dataframe thead th {\n",
       "        text-align: right;\n",
       "    }\n",
       "</style>\n",
       "<table border=\"1\" class=\"dataframe\">\n",
       "  <thead>\n",
       "    <tr style=\"text-align: right;\">\n",
       "      <th></th>\n",
       "      <th>Pclass_1</th>\n",
       "      <th>Pclass_2</th>\n",
       "      <th>Pclass_3</th>\n",
       "      <th>Sex_female</th>\n",
       "      <th>Sex_male</th>\n",
       "      <th>Embarked_C</th>\n",
       "      <th>Embarked_Q</th>\n",
       "      <th>Embarked_S</th>\n",
       "    </tr>\n",
       "  </thead>\n",
       "  <tbody>\n",
       "    <tr>\n",
       "      <th>0</th>\n",
       "      <td>0.0</td>\n",
       "      <td>1.0</td>\n",
       "      <td>0.0</td>\n",
       "      <td>0.0</td>\n",
       "      <td>1.0</td>\n",
       "      <td>0.0</td>\n",
       "      <td>0.0</td>\n",
       "      <td>1.0</td>\n",
       "    </tr>\n",
       "    <tr>\n",
       "      <th>1</th>\n",
       "      <td>1.0</td>\n",
       "      <td>0.0</td>\n",
       "      <td>0.0</td>\n",
       "      <td>0.0</td>\n",
       "      <td>1.0</td>\n",
       "      <td>0.0</td>\n",
       "      <td>0.0</td>\n",
       "      <td>1.0</td>\n",
       "    </tr>\n",
       "    <tr>\n",
       "      <th>2</th>\n",
       "      <td>0.0</td>\n",
       "      <td>0.0</td>\n",
       "      <td>1.0</td>\n",
       "      <td>1.0</td>\n",
       "      <td>0.0</td>\n",
       "      <td>0.0</td>\n",
       "      <td>0.0</td>\n",
       "      <td>1.0</td>\n",
       "    </tr>\n",
       "    <tr>\n",
       "      <th>3</th>\n",
       "      <td>0.0</td>\n",
       "      <td>1.0</td>\n",
       "      <td>0.0</td>\n",
       "      <td>1.0</td>\n",
       "      <td>0.0</td>\n",
       "      <td>0.0</td>\n",
       "      <td>0.0</td>\n",
       "      <td>1.0</td>\n",
       "    </tr>\n",
       "    <tr>\n",
       "      <th>4</th>\n",
       "      <td>0.0</td>\n",
       "      <td>0.0</td>\n",
       "      <td>1.0</td>\n",
       "      <td>0.0</td>\n",
       "      <td>1.0</td>\n",
       "      <td>0.0</td>\n",
       "      <td>1.0</td>\n",
       "      <td>0.0</td>\n",
       "    </tr>\n",
       "  </tbody>\n",
       "</table>\n",
       "</div>"
      ],
      "text/plain": [
       "   Pclass_1  Pclass_2  Pclass_3  Sex_female  Sex_male  Embarked_C  Embarked_Q  \\\n",
       "0       0.0       1.0       0.0         0.0       1.0         0.0         0.0   \n",
       "1       1.0       0.0       0.0         0.0       1.0         0.0         0.0   \n",
       "2       0.0       0.0       1.0         1.0       0.0         0.0         0.0   \n",
       "3       0.0       1.0       0.0         1.0       0.0         0.0         0.0   \n",
       "4       0.0       0.0       1.0         0.0       1.0         0.0         1.0   \n",
       "\n",
       "   Embarked_S  \n",
       "0         1.0  \n",
       "1         1.0  \n",
       "2         1.0  \n",
       "3         1.0  \n",
       "4         0.0  "
      ]
     },
     "execution_count": 190,
     "metadata": {},
     "output_type": "execute_result"
    }
   ],
   "source": [
    "# Import library\n",
    "from sklearn.preprocessing import OneHotEncoder\n",
    "\n",
    "# Apply One-Hot Encoding\n",
    "encoder = OneHotEncoder(handle_unknown='ignore')\n",
    "\n",
    "X_train_cat_encoded = encoder.fit_transform(X_train_cat_imputed)\n",
    "X_train_cat_encoded = pd.DataFrame(X_train_cat_encoded.toarray(), columns=encoder.get_feature_names_out(features_cat))\n",
    "\n",
    "# Sanity checks after Encoding!\n",
    "X_train_cat_encoded.head()"
   ]
  },
  {
   "cell_type": "code",
   "execution_count": 191,
   "id": "f5909a22-a9cb-4d4b-9de0-1f9eebbb5a52",
   "metadata": {
    "tags": []
   },
   "outputs": [
    {
     "data": {
      "text/html": [
       "<div>\n",
       "<style scoped>\n",
       "    .dataframe tbody tr th:only-of-type {\n",
       "        vertical-align: middle;\n",
       "    }\n",
       "\n",
       "    .dataframe tbody tr th {\n",
       "        vertical-align: top;\n",
       "    }\n",
       "\n",
       "    .dataframe thead th {\n",
       "        text-align: right;\n",
       "    }\n",
       "</style>\n",
       "<table border=\"1\" class=\"dataframe\">\n",
       "  <thead>\n",
       "    <tr style=\"text-align: right;\">\n",
       "      <th></th>\n",
       "      <th>Pclass_1</th>\n",
       "      <th>Pclass_2</th>\n",
       "      <th>Pclass_3</th>\n",
       "      <th>Sex_female</th>\n",
       "      <th>Sex_male</th>\n",
       "      <th>Embarked_C</th>\n",
       "      <th>Embarked_Q</th>\n",
       "      <th>Embarked_S</th>\n",
       "    </tr>\n",
       "  </thead>\n",
       "  <tbody>\n",
       "    <tr>\n",
       "      <th>0</th>\n",
       "      <td>0.0</td>\n",
       "      <td>0.0</td>\n",
       "      <td>1.0</td>\n",
       "      <td>0.0</td>\n",
       "      <td>1.0</td>\n",
       "      <td>0.0</td>\n",
       "      <td>0.0</td>\n",
       "      <td>1.0</td>\n",
       "    </tr>\n",
       "    <tr>\n",
       "      <th>1</th>\n",
       "      <td>0.0</td>\n",
       "      <td>0.0</td>\n",
       "      <td>1.0</td>\n",
       "      <td>0.0</td>\n",
       "      <td>1.0</td>\n",
       "      <td>0.0</td>\n",
       "      <td>0.0</td>\n",
       "      <td>1.0</td>\n",
       "    </tr>\n",
       "    <tr>\n",
       "      <th>2</th>\n",
       "      <td>0.0</td>\n",
       "      <td>0.0</td>\n",
       "      <td>1.0</td>\n",
       "      <td>0.0</td>\n",
       "      <td>1.0</td>\n",
       "      <td>0.0</td>\n",
       "      <td>0.0</td>\n",
       "      <td>1.0</td>\n",
       "    </tr>\n",
       "    <tr>\n",
       "      <th>3</th>\n",
       "      <td>0.0</td>\n",
       "      <td>1.0</td>\n",
       "      <td>0.0</td>\n",
       "      <td>0.0</td>\n",
       "      <td>1.0</td>\n",
       "      <td>0.0</td>\n",
       "      <td>0.0</td>\n",
       "      <td>1.0</td>\n",
       "    </tr>\n",
       "    <tr>\n",
       "      <th>4</th>\n",
       "      <td>0.0</td>\n",
       "      <td>0.0</td>\n",
       "      <td>1.0</td>\n",
       "      <td>1.0</td>\n",
       "      <td>0.0</td>\n",
       "      <td>0.0</td>\n",
       "      <td>0.0</td>\n",
       "      <td>1.0</td>\n",
       "    </tr>\n",
       "  </tbody>\n",
       "</table>\n",
       "</div>"
      ],
      "text/plain": [
       "   Pclass_1  Pclass_2  Pclass_3  Sex_female  Sex_male  Embarked_C  Embarked_Q  \\\n",
       "0       0.0       0.0       1.0         0.0       1.0         0.0         0.0   \n",
       "1       0.0       0.0       1.0         0.0       1.0         0.0         0.0   \n",
       "2       0.0       0.0       1.0         0.0       1.0         0.0         0.0   \n",
       "3       0.0       1.0       0.0         0.0       1.0         0.0         0.0   \n",
       "4       0.0       0.0       1.0         1.0       0.0         0.0         0.0   \n",
       "\n",
       "   Embarked_S  \n",
       "0         1.0  \n",
       "1         1.0  \n",
       "2         1.0  \n",
       "3         1.0  \n",
       "4         1.0  "
      ]
     },
     "execution_count": 191,
     "metadata": {},
     "output_type": "execute_result"
    }
   ],
   "source": [
    "# Encode validation data set as well\n",
    "X_val_cat_encoded = encoder.transform(X_val_cat_imputed)\n",
    "X_val_cat_encoded = pd.DataFrame(X_val_cat_encoded.toarray(), columns=encoder.get_feature_names_out(features_cat))\n",
    "\n",
    "# Sanity checks after Encoding!\n",
    "X_val_cat_encoded.head()"
   ]
  },
  {
   "cell_type": "code",
   "execution_count": 192,
   "id": "d6260592-69dc-4d15-831a-402da16bdb61",
   "metadata": {
    "tags": []
   },
   "outputs": [],
   "source": [
    "# Save encoder for later use\n",
    "with open('encoder', 'wb') as pkl:\n",
    "    pickle.dump(encoder, pkl)"
   ]
  },
  {
   "cell_type": "markdown",
   "id": "d4fd42ef-acc9-45be-b02e-6a926dae02e5",
   "metadata": {},
   "source": [
    "## 3.5 Combine processed data"
   ]
  },
  {
   "cell_type": "code",
   "execution_count": 193,
   "id": "6a8310a9-6d8c-4e02-afd5-3a8faf1dee9e",
   "metadata": {
    "tags": []
   },
   "outputs": [
    {
     "name": "stdout",
     "output_type": "stream",
     "text": [
      "X_train_ready (1047, 12)\n",
      "\n",
      "\n"
     ]
    },
    {
     "data": {
      "text/html": [
       "<div>\n",
       "<style scoped>\n",
       "    .dataframe tbody tr th:only-of-type {\n",
       "        vertical-align: middle;\n",
       "    }\n",
       "\n",
       "    .dataframe tbody tr th {\n",
       "        vertical-align: top;\n",
       "    }\n",
       "\n",
       "    .dataframe thead th {\n",
       "        text-align: right;\n",
       "    }\n",
       "</style>\n",
       "<table border=\"1\" class=\"dataframe\">\n",
       "  <thead>\n",
       "    <tr style=\"text-align: right;\">\n",
       "      <th></th>\n",
       "      <th>Age</th>\n",
       "      <th>SibSp</th>\n",
       "      <th>Parch</th>\n",
       "      <th>Fare</th>\n",
       "      <th>Pclass_1</th>\n",
       "      <th>Pclass_2</th>\n",
       "      <th>Pclass_3</th>\n",
       "      <th>Sex_female</th>\n",
       "      <th>Sex_male</th>\n",
       "      <th>Embarked_C</th>\n",
       "      <th>Embarked_Q</th>\n",
       "      <th>Embarked_S</th>\n",
       "    </tr>\n",
       "  </thead>\n",
       "  <tbody>\n",
       "    <tr>\n",
       "      <th>0</th>\n",
       "      <td>-0.497337</td>\n",
       "      <td>-0.478676</td>\n",
       "      <td>-0.447079</td>\n",
       "      <td>-0.456085</td>\n",
       "      <td>0.0</td>\n",
       "      <td>1.0</td>\n",
       "      <td>0.0</td>\n",
       "      <td>0.0</td>\n",
       "      <td>1.0</td>\n",
       "      <td>0.0</td>\n",
       "      <td>0.0</td>\n",
       "      <td>1.0</td>\n",
       "    </tr>\n",
       "    <tr>\n",
       "      <th>1</th>\n",
       "      <td>-0.109229</td>\n",
       "      <td>-0.478676</td>\n",
       "      <td>-0.447079</td>\n",
       "      <td>-0.662177</td>\n",
       "      <td>1.0</td>\n",
       "      <td>0.0</td>\n",
       "      <td>0.0</td>\n",
       "      <td>0.0</td>\n",
       "      <td>1.0</td>\n",
       "      <td>0.0</td>\n",
       "      <td>0.0</td>\n",
       "      <td>1.0</td>\n",
       "    </tr>\n",
       "    <tr>\n",
       "      <th>2</th>\n",
       "      <td>1.055094</td>\n",
       "      <td>0.437547</td>\n",
       "      <td>6.288048</td>\n",
       "      <td>0.258369</td>\n",
       "      <td>0.0</td>\n",
       "      <td>0.0</td>\n",
       "      <td>1.0</td>\n",
       "      <td>1.0</td>\n",
       "      <td>0.0</td>\n",
       "      <td>0.0</td>\n",
       "      <td>0.0</td>\n",
       "      <td>1.0</td>\n",
       "    </tr>\n",
       "    <tr>\n",
       "      <th>3</th>\n",
       "      <td>-1.739281</td>\n",
       "      <td>-0.478676</td>\n",
       "      <td>1.797964</td>\n",
       "      <td>-0.146946</td>\n",
       "      <td>0.0</td>\n",
       "      <td>1.0</td>\n",
       "      <td>0.0</td>\n",
       "      <td>1.0</td>\n",
       "      <td>0.0</td>\n",
       "      <td>0.0</td>\n",
       "      <td>0.0</td>\n",
       "      <td>1.0</td>\n",
       "    </tr>\n",
       "    <tr>\n",
       "      <th>4</th>\n",
       "      <td>-0.109229</td>\n",
       "      <td>-0.478676</td>\n",
       "      <td>-0.447079</td>\n",
       "      <td>-0.510061</td>\n",
       "      <td>0.0</td>\n",
       "      <td>0.0</td>\n",
       "      <td>1.0</td>\n",
       "      <td>0.0</td>\n",
       "      <td>1.0</td>\n",
       "      <td>0.0</td>\n",
       "      <td>1.0</td>\n",
       "      <td>0.0</td>\n",
       "    </tr>\n",
       "  </tbody>\n",
       "</table>\n",
       "</div>"
      ],
      "text/plain": [
       "        Age     SibSp     Parch      Fare  Pclass_1  Pclass_2  Pclass_3  \\\n",
       "0 -0.497337 -0.478676 -0.447079 -0.456085       0.0       1.0       0.0   \n",
       "1 -0.109229 -0.478676 -0.447079 -0.662177       1.0       0.0       0.0   \n",
       "2  1.055094  0.437547  6.288048  0.258369       0.0       0.0       1.0   \n",
       "3 -1.739281 -0.478676  1.797964 -0.146946       0.0       1.0       0.0   \n",
       "4 -0.109229 -0.478676 -0.447079 -0.510061       0.0       0.0       1.0   \n",
       "\n",
       "   Sex_female  Sex_male  Embarked_C  Embarked_Q  Embarked_S  \n",
       "0         0.0       1.0         0.0         0.0         1.0  \n",
       "1         0.0       1.0         0.0         0.0         1.0  \n",
       "2         1.0       0.0         0.0         0.0         1.0  \n",
       "3         1.0       0.0         0.0         0.0         1.0  \n",
       "4         0.0       1.0         0.0         1.0         0.0  "
      ]
     },
     "execution_count": 193,
     "metadata": {},
     "output_type": "execute_result"
    }
   ],
   "source": [
    "# Combine data - TRAIN\n",
    "X_train_ready = pd.concat([X_train_num_scaler, X_train_cat_encoded], axis='columns')\n",
    "\n",
    "print('X_train_ready', X_train_ready.shape)\n",
    "print('\\n')\n",
    "\n",
    "X_train_ready.head()"
   ]
  },
  {
   "cell_type": "code",
   "execution_count": 194,
   "id": "7d8d2ad7-8356-4b47-afb9-99b52e22c2c3",
   "metadata": {
    "tags": []
   },
   "outputs": [
    {
     "name": "stdout",
     "output_type": "stream",
     "text": [
      "X_val_ready (262, 12)\n",
      "\n",
      "\n"
     ]
    },
    {
     "data": {
      "text/html": [
       "<div>\n",
       "<style scoped>\n",
       "    .dataframe tbody tr th:only-of-type {\n",
       "        vertical-align: middle;\n",
       "    }\n",
       "\n",
       "    .dataframe tbody tr th {\n",
       "        vertical-align: top;\n",
       "    }\n",
       "\n",
       "    .dataframe thead th {\n",
       "        text-align: right;\n",
       "    }\n",
       "</style>\n",
       "<table border=\"1\" class=\"dataframe\">\n",
       "  <thead>\n",
       "    <tr style=\"text-align: right;\">\n",
       "      <th></th>\n",
       "      <th>Age</th>\n",
       "      <th>SibSp</th>\n",
       "      <th>Parch</th>\n",
       "      <th>Fare</th>\n",
       "      <th>Pclass_1</th>\n",
       "      <th>Pclass_2</th>\n",
       "      <th>Pclass_3</th>\n",
       "      <th>Sex_female</th>\n",
       "      <th>Sex_male</th>\n",
       "      <th>Embarked_C</th>\n",
       "      <th>Embarked_Q</th>\n",
       "      <th>Embarked_S</th>\n",
       "    </tr>\n",
       "  </thead>\n",
       "  <tbody>\n",
       "    <tr>\n",
       "      <th>0</th>\n",
       "      <td>1.365580</td>\n",
       "      <td>-0.478676</td>\n",
       "      <td>-0.447079</td>\n",
       "      <td>-0.519875</td>\n",
       "      <td>0.0</td>\n",
       "      <td>0.0</td>\n",
       "      <td>1.0</td>\n",
       "      <td>0.0</td>\n",
       "      <td>1.0</td>\n",
       "      <td>0.0</td>\n",
       "      <td>0.0</td>\n",
       "      <td>1.0</td>\n",
       "    </tr>\n",
       "    <tr>\n",
       "      <th>1</th>\n",
       "      <td>-0.652580</td>\n",
       "      <td>1.353770</td>\n",
       "      <td>-0.447079</td>\n",
       "      <td>-0.188164</td>\n",
       "      <td>0.0</td>\n",
       "      <td>0.0</td>\n",
       "      <td>1.0</td>\n",
       "      <td>0.0</td>\n",
       "      <td>1.0</td>\n",
       "      <td>0.0</td>\n",
       "      <td>0.0</td>\n",
       "      <td>1.0</td>\n",
       "    </tr>\n",
       "    <tr>\n",
       "      <th>2</th>\n",
       "      <td>1.598444</td>\n",
       "      <td>-0.478676</td>\n",
       "      <td>-0.447079</td>\n",
       "      <td>-0.504173</td>\n",
       "      <td>0.0</td>\n",
       "      <td>0.0</td>\n",
       "      <td>1.0</td>\n",
       "      <td>0.0</td>\n",
       "      <td>1.0</td>\n",
       "      <td>0.0</td>\n",
       "      <td>0.0</td>\n",
       "      <td>1.0</td>\n",
       "    </tr>\n",
       "    <tr>\n",
       "      <th>3</th>\n",
       "      <td>-0.109229</td>\n",
       "      <td>-0.478676</td>\n",
       "      <td>-0.447079</td>\n",
       "      <td>-0.407015</td>\n",
       "      <td>0.0</td>\n",
       "      <td>1.0</td>\n",
       "      <td>0.0</td>\n",
       "      <td>0.0</td>\n",
       "      <td>1.0</td>\n",
       "      <td>0.0</td>\n",
       "      <td>0.0</td>\n",
       "      <td>1.0</td>\n",
       "    </tr>\n",
       "    <tr>\n",
       "      <th>4</th>\n",
       "      <td>-0.109229</td>\n",
       "      <td>2.269994</td>\n",
       "      <td>0.675443</td>\n",
       "      <td>-0.162321</td>\n",
       "      <td>0.0</td>\n",
       "      <td>0.0</td>\n",
       "      <td>1.0</td>\n",
       "      <td>1.0</td>\n",
       "      <td>0.0</td>\n",
       "      <td>0.0</td>\n",
       "      <td>0.0</td>\n",
       "      <td>1.0</td>\n",
       "    </tr>\n",
       "  </tbody>\n",
       "</table>\n",
       "</div>"
      ],
      "text/plain": [
       "        Age     SibSp     Parch      Fare  Pclass_1  Pclass_2  Pclass_3  \\\n",
       "0  1.365580 -0.478676 -0.447079 -0.519875       0.0       0.0       1.0   \n",
       "1 -0.652580  1.353770 -0.447079 -0.188164       0.0       0.0       1.0   \n",
       "2  1.598444 -0.478676 -0.447079 -0.504173       0.0       0.0       1.0   \n",
       "3 -0.109229 -0.478676 -0.447079 -0.407015       0.0       1.0       0.0   \n",
       "4 -0.109229  2.269994  0.675443 -0.162321       0.0       0.0       1.0   \n",
       "\n",
       "   Sex_female  Sex_male  Embarked_C  Embarked_Q  Embarked_S  \n",
       "0         0.0       1.0         0.0         0.0         1.0  \n",
       "1         0.0       1.0         0.0         0.0         1.0  \n",
       "2         0.0       1.0         0.0         0.0         1.0  \n",
       "3         0.0       1.0         0.0         0.0         1.0  \n",
       "4         1.0       0.0         0.0         0.0         1.0  "
      ]
     },
     "execution_count": 194,
     "metadata": {},
     "output_type": "execute_result"
    }
   ],
   "source": [
    "# Combine data - VALIDATION\n",
    "X_val_ready = pd.concat([X_val_num_scaler, X_val_cat_encoded], axis='columns')\n",
    "\n",
    "print('X_val_ready', X_val_ready.shape)\n",
    "print('\\n')\n",
    "\n",
    "X_val_ready.head()"
   ]
  },
  {
   "cell_type": "markdown",
   "id": "f81af292-be25-4987-8e99-a2408db62c4d",
   "metadata": {},
   "source": [
    "## 3.6 Build ML models"
   ]
  },
  {
   "cell_type": "code",
   "execution_count": 195,
   "id": "22ba187a-9819-4ec9-a2a1-49f8716e0697",
   "metadata": {
    "tags": []
   },
   "outputs": [],
   "source": [
    "# Convert label from Pandas data frame to numpy for ML training\n",
    "y_train = y_train.to_numpy().flatten()\n",
    "y_val = y_val.to_numpy().flatten()"
   ]
  },
  {
   "cell_type": "code",
   "execution_count": 196,
   "id": "26f34d04-7f36-4745-881c-421622215280",
   "metadata": {
    "tags": []
   },
   "outputs": [
    {
     "data": {
      "text/plain": [
       "(1047,)"
      ]
     },
     "execution_count": 196,
     "metadata": {},
     "output_type": "execute_result"
    }
   ],
   "source": [
    "y_train.shape"
   ]
  },
  {
   "cell_type": "code",
   "execution_count": 197,
   "id": "652fb094-12b3-4eec-9f64-59b716a059d1",
   "metadata": {
    "tags": []
   },
   "outputs": [
    {
     "data": {
      "text/plain": [
       "numpy.ndarray"
      ]
     },
     "execution_count": 197,
     "metadata": {},
     "output_type": "execute_result"
    }
   ],
   "source": [
    "type(y_train)"
   ]
  },
  {
   "cell_type": "code",
   "execution_count": 198,
   "id": "b13894e8-d841-4d9e-a81c-34e3f266d172",
   "metadata": {
    "tags": []
   },
   "outputs": [
    {
     "data": {
      "text/plain": [
       "array([1, 0, 0, 1, 1, 0, 1, 1, 1, 0, 1, 0, 0, 1, 0, 0, 1, 0, 1, 0, 0, 0,\n",
       "       0, 0, 0, 0, 0, 1, 0, 0, 1, 0, 1, 0, 1, 0, 0, 1, 1, 0, 1, 0, 0, 0,\n",
       "       0, 0, 1, 0, 0, 1, 0, 0, 0, 0, 0, 0, 1, 1, 1, 1, 0, 1, 1, 1, 0, 1,\n",
       "       0, 0, 0, 0, 0, 0, 0, 1, 0, 0, 0, 0, 0, 0, 1, 0, 0, 1, 1, 1, 0, 0,\n",
       "       0, 1, 0, 1, 0, 1, 1, 0, 0, 1, 0, 0])"
      ]
     },
     "execution_count": 198,
     "metadata": {},
     "output_type": "execute_result"
    }
   ],
   "source": [
    "y_train[:100]"
   ]
  },
  {
   "cell_type": "code",
   "execution_count": 199,
   "id": "8529e9f7-5576-46e1-80a8-43c4e2c7f4e9",
   "metadata": {
    "tags": []
   },
   "outputs": [
    {
     "data": {
      "text/plain": [
       "(array([0, 1]), array([643, 404], dtype=int64))"
      ]
     },
     "execution_count": 199,
     "metadata": {},
     "output_type": "execute_result"
    }
   ],
   "source": [
    "# Sanity checks for distribution of child deaths\n",
    "np.unique(y_train, return_counts=True)"
   ]
  },
  {
   "cell_type": "code",
   "execution_count": 200,
   "id": "c3235abc-2a8d-4630-a10f-54db809d49e4",
   "metadata": {
    "tags": []
   },
   "outputs": [
    {
     "data": {
      "text/plain": [
       "(array([0, 1]), array([161, 101], dtype=int64))"
      ]
     },
     "execution_count": 200,
     "metadata": {},
     "output_type": "execute_result"
    }
   ],
   "source": [
    "np.unique(y_val, return_counts=True)"
   ]
  },
  {
   "cell_type": "code",
   "execution_count": 201,
   "id": "80a6449e-09a9-496a-9f30-731ade2f7630",
   "metadata": {
    "tags": []
   },
   "outputs": [
    {
     "data": {
      "text/plain": [
       "array([0, 1])"
      ]
     },
     "execution_count": 201,
     "metadata": {},
     "output_type": "execute_result"
    }
   ],
   "source": [
    "df['Survived'].unique()"
   ]
  },
  {
   "cell_type": "code",
   "execution_count": 202,
   "id": "1e12c8bf-a6a8-4ffa-9322-7f7801497bdd",
   "metadata": {
    "tags": []
   },
   "outputs": [
    {
     "data": {
      "text/plain": [
       "False"
      ]
     },
     "execution_count": 202,
     "metadata": {},
     "output_type": "execute_result"
    }
   ],
   "source": [
    "# np.isnan(y_train).any()\n",
    "\n",
    "pd.isnull(y_train).any()"
   ]
  },
  {
   "cell_type": "markdown",
   "id": "b5752126-d4cc-43d8-8e33-6d7159c5e794",
   "metadata": {},
   "source": [
    "### General Linear Model (Logistic regression model)"
   ]
  },
  {
   "cell_type": "code",
   "execution_count": 203,
   "id": "2eee3b1a-8a08-42b0-b1f8-37d1b5069bf7",
   "metadata": {
    "tags": []
   },
   "outputs": [
    {
     "data": {
      "text/html": [
       "<style>#sk-container-id-8 {color: black;}#sk-container-id-8 pre{padding: 0;}#sk-container-id-8 div.sk-toggleable {background-color: white;}#sk-container-id-8 label.sk-toggleable__label {cursor: pointer;display: block;width: 100%;margin-bottom: 0;padding: 0.3em;box-sizing: border-box;text-align: center;}#sk-container-id-8 label.sk-toggleable__label-arrow:before {content: \"▸\";float: left;margin-right: 0.25em;color: #696969;}#sk-container-id-8 label.sk-toggleable__label-arrow:hover:before {color: black;}#sk-container-id-8 div.sk-estimator:hover label.sk-toggleable__label-arrow:before {color: black;}#sk-container-id-8 div.sk-toggleable__content {max-height: 0;max-width: 0;overflow: hidden;text-align: left;background-color: #f0f8ff;}#sk-container-id-8 div.sk-toggleable__content pre {margin: 0.2em;color: black;border-radius: 0.25em;background-color: #f0f8ff;}#sk-container-id-8 input.sk-toggleable__control:checked~div.sk-toggleable__content {max-height: 200px;max-width: 100%;overflow: auto;}#sk-container-id-8 input.sk-toggleable__control:checked~label.sk-toggleable__label-arrow:before {content: \"▾\";}#sk-container-id-8 div.sk-estimator input.sk-toggleable__control:checked~label.sk-toggleable__label {background-color: #d4ebff;}#sk-container-id-8 div.sk-label input.sk-toggleable__control:checked~label.sk-toggleable__label {background-color: #d4ebff;}#sk-container-id-8 input.sk-hidden--visually {border: 0;clip: rect(1px 1px 1px 1px);clip: rect(1px, 1px, 1px, 1px);height: 1px;margin: -1px;overflow: hidden;padding: 0;position: absolute;width: 1px;}#sk-container-id-8 div.sk-estimator {font-family: monospace;background-color: #f0f8ff;border: 1px dotted black;border-radius: 0.25em;box-sizing: border-box;margin-bottom: 0.5em;}#sk-container-id-8 div.sk-estimator:hover {background-color: #d4ebff;}#sk-container-id-8 div.sk-parallel-item::after {content: \"\";width: 100%;border-bottom: 1px solid gray;flex-grow: 1;}#sk-container-id-8 div.sk-label:hover label.sk-toggleable__label {background-color: #d4ebff;}#sk-container-id-8 div.sk-serial::before {content: \"\";position: absolute;border-left: 1px solid gray;box-sizing: border-box;top: 0;bottom: 0;left: 50%;z-index: 0;}#sk-container-id-8 div.sk-serial {display: flex;flex-direction: column;align-items: center;background-color: white;padding-right: 0.2em;padding-left: 0.2em;position: relative;}#sk-container-id-8 div.sk-item {position: relative;z-index: 1;}#sk-container-id-8 div.sk-parallel {display: flex;align-items: stretch;justify-content: center;background-color: white;position: relative;}#sk-container-id-8 div.sk-item::before, #sk-container-id-8 div.sk-parallel-item::before {content: \"\";position: absolute;border-left: 1px solid gray;box-sizing: border-box;top: 0;bottom: 0;left: 50%;z-index: -1;}#sk-container-id-8 div.sk-parallel-item {display: flex;flex-direction: column;z-index: 1;position: relative;background-color: white;}#sk-container-id-8 div.sk-parallel-item:first-child::after {align-self: flex-end;width: 50%;}#sk-container-id-8 div.sk-parallel-item:last-child::after {align-self: flex-start;width: 50%;}#sk-container-id-8 div.sk-parallel-item:only-child::after {width: 0;}#sk-container-id-8 div.sk-dashed-wrapped {border: 1px dashed gray;margin: 0 0.4em 0.5em 0.4em;box-sizing: border-box;padding-bottom: 0.4em;background-color: white;}#sk-container-id-8 div.sk-label label {font-family: monospace;font-weight: bold;display: inline-block;line-height: 1.2em;}#sk-container-id-8 div.sk-label-container {text-align: center;}#sk-container-id-8 div.sk-container {/* jupyter's `normalize.less` sets `[hidden] { display: none; }` but bootstrap.min.css set `[hidden] { display: none !important; }` so we also need the `!important` here to be able to override the default hidden behavior on the sphinx rendered scikit-learn.org. See: https://github.com/scikit-learn/scikit-learn/issues/21755 */display: inline-block !important;position: relative;}#sk-container-id-8 div.sk-text-repr-fallback {display: none;}</style><div id=\"sk-container-id-8\" class=\"sk-top-container\"><div class=\"sk-text-repr-fallback\"><pre>LogisticRegression(max_iter=1000, random_state=101)</pre><b>In a Jupyter environment, please rerun this cell to show the HTML representation or trust the notebook. <br />On GitHub, the HTML representation is unable to render, please try loading this page with nbviewer.org.</b></div><div class=\"sk-container\" hidden><div class=\"sk-item\"><div class=\"sk-estimator sk-toggleable\"><input class=\"sk-toggleable__control sk-hidden--visually\" id=\"sk-estimator-id-8\" type=\"checkbox\" checked><label for=\"sk-estimator-id-8\" class=\"sk-toggleable__label sk-toggleable__label-arrow\">LogisticRegression</label><div class=\"sk-toggleable__content\"><pre>LogisticRegression(max_iter=1000, random_state=101)</pre></div></div></div></div></div>"
      ],
      "text/plain": [
       "LogisticRegression(max_iter=1000, random_state=101)"
      ]
     },
     "execution_count": 203,
     "metadata": {},
     "output_type": "execute_result"
    }
   ],
   "source": [
    "# Import library\n",
    "from sklearn.linear_model import LogisticRegression\n",
    "\n",
    "# Train ML model\n",
    "RANDOM_STATE = 101\n",
    "\n",
    "model_lr = LogisticRegression(random_state=RANDOM_STATE, max_iter=1000)\n",
    "\n",
    "model_lr.fit(X_train_ready, y_train)"
   ]
  },
  {
   "cell_type": "code",
   "execution_count": 204,
   "id": "a3e98ba2-f1f4-43d9-975d-916777411b7c",
   "metadata": {
    "tags": []
   },
   "outputs": [],
   "source": [
    "# Evaluate model\n",
    "y_pred_lr = model_lr.predict(X_val_ready)"
   ]
  },
  {
   "cell_type": "code",
   "execution_count": 205,
   "id": "4fe0a77d-18d5-4bd7-86c4-ca7dae0a8c75",
   "metadata": {
    "tags": []
   },
   "outputs": [
    {
     "data": {
      "text/plain": [
       "array([0, 0, 0, 0, 0, 0, 0, 0, 0, 0, 1, 0, 1, 1, 1, 0, 0, 0, 0, 0, 0, 0,\n",
       "       0, 0, 1, 0, 1, 1, 0, 0, 0, 0, 1, 0, 0, 0, 0, 1, 1, 0, 1, 0, 0, 1,\n",
       "       1, 0, 0, 1, 1, 0, 0, 1, 0, 0, 1, 0, 0, 1, 1, 1, 0, 0, 1, 0, 0, 1,\n",
       "       1, 0, 0, 0, 0, 1, 1, 0, 1, 1, 1, 0, 1, 0, 0, 1, 0, 1, 0, 0, 1, 1,\n",
       "       0, 1, 0, 0, 1, 0, 0, 0, 1, 1, 0, 0])"
      ]
     },
     "execution_count": 205,
     "metadata": {},
     "output_type": "execute_result"
    }
   ],
   "source": [
    "y_pred_lr[:100]"
   ]
  },
  {
   "cell_type": "code",
   "execution_count": 206,
   "id": "03f2f29d-2fb5-42cd-9d4f-9c1533e15f2b",
   "metadata": {
    "tags": []
   },
   "outputs": [
    {
     "data": {
      "text/plain": [
       "array([[130,  31],\n",
       "       [ 48,  53]], dtype=int64)"
      ]
     },
     "execution_count": 206,
     "metadata": {},
     "output_type": "execute_result"
    }
   ],
   "source": [
    "# Evaluate model performance using Confusion matrix and ROC #################################################################################################\n",
    "from sklearn.metrics import confusion_matrix\n",
    "\n",
    "# Get confusion matrix\n",
    "confusion_matrix(y_true=y_val, y_pred=y_pred_lr)"
   ]
  },
  {
   "cell_type": "code",
   "execution_count": 207,
   "id": "3e72a17e-2cb0-49ae-8036-0d9af5906f7f",
   "metadata": {
    "tags": []
   },
   "outputs": [
    {
     "data": {
      "image/png": "[encoded data removed]",
      "text/plain": [
       "<Figure size 640x480 with 2 Axes>"
      ]
     },
     "metadata": {},
     "output_type": "display_data"
    }
   ],
   "source": [
    "# Display confusion matrix\n",
    "import matplotlib.pyplot as plt\n",
    "%matplotlib inline\n",
    "\n",
    "from sklearn.metrics import ConfusionMatrixDisplay\n",
    "\n",
    "cm_lr = confusion_matrix(y_true=y_val, y_pred=y_pred_lr)\n",
    "disp = ConfusionMatrixDisplay(confusion_matrix=cm_lr, display_labels=model_lr.classes_)\n",
    "disp.plot()\n",
    "\n",
    "plt.show()"
   ]
  },
  {
   "cell_type": "code",
   "execution_count": 208,
   "id": "1ec7c695-5c98-497a-9fe7-7820e930c52d",
   "metadata": {
    "tags": []
   },
   "outputs": [
    {
     "name": "stdout",
     "output_type": "stream",
     "text": [
      "y_pred_prob_lr\n",
      " [[0.86513759 0.13486241]\n",
      " [0.82053434 0.17946566]\n",
      " [0.87303593 0.12696407]\n",
      " [0.66965245 0.33034755]\n",
      " [0.62732093 0.37267907]\n",
      " [0.75010443 0.24989557]\n",
      " [0.85915146 0.14084854]\n",
      " [0.75582328 0.24417672]\n",
      " [0.82284946 0.17715054]\n",
      " [0.80698847 0.19301153]]\n"
     ]
    }
   ],
   "source": [
    "# Calculate AUC\n",
    "from sklearn.metrics import roc_auc_score\n",
    "\n",
    "# Calculate prediction probability before calculating AUC\n",
    "y_pred_prob_lr = model_lr.predict_proba(X_val_ready)\n",
    "print('y_pred_prob_lr\\n', y_pred_prob_lr[:10])"
   ]
  },
  {
   "cell_type": "code",
   "execution_count": 209,
   "id": "9d066410-2617-4538-b3a6-aef449fb71d2",
   "metadata": {
    "tags": []
   },
   "outputs": [
    {
     "data": {
      "text/plain": [
       "0.7223110509808744"
      ]
     },
     "execution_count": 209,
     "metadata": {},
     "output_type": "execute_result"
    }
   ],
   "source": [
    "auc_lr = roc_auc_score(y_val, y_pred_prob_lr[:, -1])\n",
    "auc_lr"
   ]
  },
  {
   "cell_type": "code",
   "execution_count": 210,
   "id": "fd5f35f6-7da9-4d6b-9d11-8cd60314930b",
   "metadata": {
    "tags": []
   },
   "outputs": [],
   "source": [
    "# Plot ROC\n",
    "from sklearn.metrics import roc_curve\n",
    "\n",
    "fpr_lr, tpr_lr, th_lr = roc_curve(y_val, y_pred_prob_lr[:, -1])"
   ]
  },
  {
   "cell_type": "code",
   "execution_count": 211,
   "id": "d10cf9fb-195d-4de3-9fae-24608efb9630",
   "metadata": {
    "tags": []
   },
   "outputs": [],
   "source": [
    "# Custom function to plot ROC curve\n",
    "def plot_roc_curve(fpr_list, tpr_list, label_list=None, auc_list=None):  \n",
    "    assert isinstance(fpr_list, list), 'Please pass FPR in a list, e.g., [fpr_lr]'\n",
    "    assert isinstance(tpr_list, list), 'Please pass TPR in a list, e.g., [fpr_lr]'\n",
    "    \n",
    "    if label_list is not None:\n",
    "        assert isinstance(label_list, list), 'Please pass label in a list, e.g., [label_lr]'\n",
    "        \n",
    "    if auc_list is not None:\n",
    "        assert isinstance(auc_list, list), 'Please pass AUC in a list, e.g., [auc_lr]'\n",
    "    \n",
    "    if label_list is None:\n",
    "        label_list = [None] * len(fpr_list)\n",
    "        \n",
    "    if auc_list is None:\n",
    "        auc_list = [None] * len(fpr_list)\n",
    "        \n",
    "    for fpr, tpr, label, auc in zip(fpr_list, tpr_list, label_list, auc_list):\n",
    "        plt.plot(fpr, tpr, linewidth=2, \n",
    "                 label=''.join([label, ' (auc = ', str(round(auc * 100, 1)), '%)']) if label is not None else None,\n",
    "                )\n",
    "        plt.plot([0, 1], [0, 1], color='0.8')\n",
    "\n",
    "        plt.xlabel(\"FPR (1 - Specificity)\")\n",
    "        plt.ylabel(\"TPR (Sensitivity)\")\n",
    "        \n",
    "        if label is not None and auc is not None:\n",
    "            plt.legend()"
   ]
  },
  {
   "cell_type": "code",
   "execution_count": 212,
   "id": "37342b90-9b8d-4d4a-b52b-6d4e04591f24",
   "metadata": {
    "tags": []
   },
   "outputs": [
    {
     "data": {
      "image/png": "[encoded data removed]",
      "text/plain": [
       "<Figure size 640x480 with 1 Axes>"
      ]
     },
     "metadata": {},
     "output_type": "display_data"
    }
   ],
   "source": [
    "# Plot ROC for logistic regression model\n",
    "plot_roc_curve([fpr_lr], [tpr_lr], label_list=['LR'], auc_list=[auc_lr])"
   ]
  },
  {
   "cell_type": "markdown",
   "id": "ca0231ae-f33b-4f50-80e9-42a68e376d00",
   "metadata": {
    "tags": []
   },
   "source": [
    "## K-nearest Neighbors Model"
   ]
  },
  {
   "cell_type": "code",
   "execution_count": 213,
   "id": "4fd435ce-f321-44e1-9eb9-24efd2d7e728",
   "metadata": {
    "tags": []
   },
   "outputs": [
    {
     "data": {
      "text/html": [
       "<style>#sk-container-id-9 {color: black;}#sk-container-id-9 pre{padding: 0;}#sk-container-id-9 div.sk-toggleable {background-color: white;}#sk-container-id-9 label.sk-toggleable__label {cursor: pointer;display: block;width: 100%;margin-bottom: 0;padding: 0.3em;box-sizing: border-box;text-align: center;}#sk-container-id-9 label.sk-toggleable__label-arrow:before {content: \"▸\";float: left;margin-right: 0.25em;color: #696969;}#sk-container-id-9 label.sk-toggleable__label-arrow:hover:before {color: black;}#sk-container-id-9 div.sk-estimator:hover label.sk-toggleable__label-arrow:before {color: black;}#sk-container-id-9 div.sk-toggleable__content {max-height: 0;max-width: 0;overflow: hidden;text-align: left;background-color: #f0f8ff;}#sk-container-id-9 div.sk-toggleable__content pre {margin: 0.2em;color: black;border-radius: 0.25em;background-color: #f0f8ff;}#sk-container-id-9 input.sk-toggleable__control:checked~div.sk-toggleable__content {max-height: 200px;max-width: 100%;overflow: auto;}#sk-container-id-9 input.sk-toggleable__control:checked~label.sk-toggleable__label-arrow:before {content: \"▾\";}#sk-container-id-9 div.sk-estimator input.sk-toggleable__control:checked~label.sk-toggleable__label {background-color: #d4ebff;}#sk-container-id-9 div.sk-label input.sk-toggleable__control:checked~label.sk-toggleable__label {background-color: #d4ebff;}#sk-container-id-9 input.sk-hidden--visually {border: 0;clip: rect(1px 1px 1px 1px);clip: rect(1px, 1px, 1px, 1px);height: 1px;margin: -1px;overflow: hidden;padding: 0;position: absolute;width: 1px;}#sk-container-id-9 div.sk-estimator {font-family: monospace;background-color: #f0f8ff;border: 1px dotted black;border-radius: 0.25em;box-sizing: border-box;margin-bottom: 0.5em;}#sk-container-id-9 div.sk-estimator:hover {background-color: #d4ebff;}#sk-container-id-9 div.sk-parallel-item::after {content: \"\";width: 100%;border-bottom: 1px solid gray;flex-grow: 1;}#sk-container-id-9 div.sk-label:hover label.sk-toggleable__label {background-color: #d4ebff;}#sk-container-id-9 div.sk-serial::before {content: \"\";position: absolute;border-left: 1px solid gray;box-sizing: border-box;top: 0;bottom: 0;left: 50%;z-index: 0;}#sk-container-id-9 div.sk-serial {display: flex;flex-direction: column;align-items: center;background-color: white;padding-right: 0.2em;padding-left: 0.2em;position: relative;}#sk-container-id-9 div.sk-item {position: relative;z-index: 1;}#sk-container-id-9 div.sk-parallel {display: flex;align-items: stretch;justify-content: center;background-color: white;position: relative;}#sk-container-id-9 div.sk-item::before, #sk-container-id-9 div.sk-parallel-item::before {content: \"\";position: absolute;border-left: 1px solid gray;box-sizing: border-box;top: 0;bottom: 0;left: 50%;z-index: -1;}#sk-container-id-9 div.sk-parallel-item {display: flex;flex-direction: column;z-index: 1;position: relative;background-color: white;}#sk-container-id-9 div.sk-parallel-item:first-child::after {align-self: flex-end;width: 50%;}#sk-container-id-9 div.sk-parallel-item:last-child::after {align-self: flex-start;width: 50%;}#sk-container-id-9 div.sk-parallel-item:only-child::after {width: 0;}#sk-container-id-9 div.sk-dashed-wrapped {border: 1px dashed gray;margin: 0 0.4em 0.5em 0.4em;box-sizing: border-box;padding-bottom: 0.4em;background-color: white;}#sk-container-id-9 div.sk-label label {font-family: monospace;font-weight: bold;display: inline-block;line-height: 1.2em;}#sk-container-id-9 div.sk-label-container {text-align: center;}#sk-container-id-9 div.sk-container {/* jupyter's `normalize.less` sets `[hidden] { display: none; }` but bootstrap.min.css set `[hidden] { display: none !important; }` so we also need the `!important` here to be able to override the default hidden behavior on the sphinx rendered scikit-learn.org. See: https://github.com/scikit-learn/scikit-learn/issues/21755 */display: inline-block !important;position: relative;}#sk-container-id-9 div.sk-text-repr-fallback {display: none;}</style><div id=\"sk-container-id-9\" class=\"sk-top-container\"><div class=\"sk-text-repr-fallback\"><pre>KNeighborsClassifier(n_neighbors=10)</pre><b>In a Jupyter environment, please rerun this cell to show the HTML representation or trust the notebook. <br />On GitHub, the HTML representation is unable to render, please try loading this page with nbviewer.org.</b></div><div class=\"sk-container\" hidden><div class=\"sk-item\"><div class=\"sk-estimator sk-toggleable\"><input class=\"sk-toggleable__control sk-hidden--visually\" id=\"sk-estimator-id-9\" type=\"checkbox\" checked><label for=\"sk-estimator-id-9\" class=\"sk-toggleable__label sk-toggleable__label-arrow\">KNeighborsClassifier</label><div class=\"sk-toggleable__content\"><pre>KNeighborsClassifier(n_neighbors=10)</pre></div></div></div></div></div>"
      ],
      "text/plain": [
       "KNeighborsClassifier(n_neighbors=10)"
      ]
     },
     "execution_count": 213,
     "metadata": {},
     "output_type": "execute_result"
    }
   ],
   "source": [
    "# Load library\n",
    "from sklearn.neighbors import KNeighborsClassifier\n",
    "\n",
    "# Set Hyperparameters\n",
    "N_NEIGHBORS = 10\n",
    "\n",
    "# Train model\n",
    "model_knn = KNeighborsClassifier(n_neighbors=N_NEIGHBORS)\n",
    "\n",
    "model_knn.fit(X_train_ready, y_train)"
   ]
  },
  {
   "cell_type": "code",
   "execution_count": 214,
   "id": "cb4e7906-1f56-442e-b118-4d06f532526c",
   "metadata": {
    "tags": []
   },
   "outputs": [],
   "source": [
    "# Evaluate model\n",
    "y_pred_knn = model_knn.predict(X_val_ready)"
   ]
  },
  {
   "cell_type": "code",
   "execution_count": 215,
   "id": "47f3130b-99e9-433c-a708-3c44ae4f8db1",
   "metadata": {
    "tags": []
   },
   "outputs": [
    {
     "data": {
      "image/png": "[encoded data removed]",
      "text/plain": [
       "<Figure size 640x480 with 2 Axes>"
      ]
     },
     "metadata": {},
     "output_type": "display_data"
    }
   ],
   "source": [
    "# Display confusion matrix\n",
    "cm_knn = confusion_matrix(y_true=y_val, y_pred=y_pred_knn)\n",
    "disp = ConfusionMatrixDisplay(confusion_matrix=cm_knn, display_labels=model_knn.classes_)\n",
    "disp.plot()\n",
    "\n",
    "plt.show()"
   ]
  },
  {
   "cell_type": "code",
   "execution_count": 216,
   "id": "5606a711-7c74-48b4-857e-845197edbadf",
   "metadata": {
    "tags": []
   },
   "outputs": [
    {
     "data": {
      "text/plain": [
       "0.7170838201832606"
      ]
     },
     "execution_count": 216,
     "metadata": {},
     "output_type": "execute_result"
    }
   ],
   "source": [
    "# Calculate AUC\n",
    "y_pred_prob_knn = model_knn.predict_proba(X_val_ready)\n",
    "\n",
    "auc_knn = roc_auc_score(y_val, y_pred_prob_knn[:, -1])\n",
    "auc_knn"
   ]
  },
  {
   "cell_type": "code",
   "execution_count": 217,
   "id": "5fc118ee-2ed4-4689-81a2-1fe7bf38b324",
   "metadata": {
    "tags": []
   },
   "outputs": [
    {
     "data": {
      "image/png": "[encoded data removed]",
      "text/plain": [
       "<Figure size 640x480 with 1 Axes>"
      ]
     },
     "metadata": {},
     "output_type": "display_data"
    }
   ],
   "source": [
    "# ROC for KNN\n",
    "fpr_knn, tpr_knn, th_knn = roc_curve(y_val, y_pred_prob_knn[:, -1])\n",
    "\n",
    "plot_roc_curve([fpr_knn], [tpr_knn], label_list=['KNN'], auc_list=[auc_knn])"
   ]
  },
  {
   "cell_type": "markdown",
   "id": "e4f0306b-e4d2-4593-bfc2-4d3f41032341",
   "metadata": {},
   "source": [
    "### Random Forest Model"
   ]
  },
  {
   "cell_type": "code",
   "execution_count": 218,
   "id": "b21cfb94-40aa-4ac8-8597-1ea55fe6c466",
   "metadata": {
    "tags": []
   },
   "outputs": [
    {
     "data": {
      "text/html": [
       "<style>#sk-container-id-10 {color: black;}#sk-container-id-10 pre{padding: 0;}#sk-container-id-10 div.sk-toggleable {background-color: white;}#sk-container-id-10 label.sk-toggleable__label {cursor: pointer;display: block;width: 100%;margin-bottom: 0;padding: 0.3em;box-sizing: border-box;text-align: center;}#sk-container-id-10 label.sk-toggleable__label-arrow:before {content: \"▸\";float: left;margin-right: 0.25em;color: #696969;}#sk-container-id-10 label.sk-toggleable__label-arrow:hover:before {color: black;}#sk-container-id-10 div.sk-estimator:hover label.sk-toggleable__label-arrow:before {color: black;}#sk-container-id-10 div.sk-toggleable__content {max-height: 0;max-width: 0;overflow: hidden;text-align: left;background-color: #f0f8ff;}#sk-container-id-10 div.sk-toggleable__content pre {margin: 0.2em;color: black;border-radius: 0.25em;background-color: #f0f8ff;}#sk-container-id-10 input.sk-toggleable__control:checked~div.sk-toggleable__content {max-height: 200px;max-width: 100%;overflow: auto;}#sk-container-id-10 input.sk-toggleable__control:checked~label.sk-toggleable__label-arrow:before {content: \"▾\";}#sk-container-id-10 div.sk-estimator input.sk-toggleable__control:checked~label.sk-toggleable__label {background-color: #d4ebff;}#sk-container-id-10 div.sk-label input.sk-toggleable__control:checked~label.sk-toggleable__label {background-color: #d4ebff;}#sk-container-id-10 input.sk-hidden--visually {border: 0;clip: rect(1px 1px 1px 1px);clip: rect(1px, 1px, 1px, 1px);height: 1px;margin: -1px;overflow: hidden;padding: 0;position: absolute;width: 1px;}#sk-container-id-10 div.sk-estimator {font-family: monospace;background-color: #f0f8ff;border: 1px dotted black;border-radius: 0.25em;box-sizing: border-box;margin-bottom: 0.5em;}#sk-container-id-10 div.sk-estimator:hover {background-color: #d4ebff;}#sk-container-id-10 div.sk-parallel-item::after {content: \"\";width: 100%;border-bottom: 1px solid gray;flex-grow: 1;}#sk-container-id-10 div.sk-label:hover label.sk-toggleable__label {background-color: #d4ebff;}#sk-container-id-10 div.sk-serial::before {content: \"\";position: absolute;border-left: 1px solid gray;box-sizing: border-box;top: 0;bottom: 0;left: 50%;z-index: 0;}#sk-container-id-10 div.sk-serial {display: flex;flex-direction: column;align-items: center;background-color: white;padding-right: 0.2em;padding-left: 0.2em;position: relative;}#sk-container-id-10 div.sk-item {position: relative;z-index: 1;}#sk-container-id-10 div.sk-parallel {display: flex;align-items: stretch;justify-content: center;background-color: white;position: relative;}#sk-container-id-10 div.sk-item::before, #sk-container-id-10 div.sk-parallel-item::before {content: \"\";position: absolute;border-left: 1px solid gray;box-sizing: border-box;top: 0;bottom: 0;left: 50%;z-index: -1;}#sk-container-id-10 div.sk-parallel-item {display: flex;flex-direction: column;z-index: 1;position: relative;background-color: white;}#sk-container-id-10 div.sk-parallel-item:first-child::after {align-self: flex-end;width: 50%;}#sk-container-id-10 div.sk-parallel-item:last-child::after {align-self: flex-start;width: 50%;}#sk-container-id-10 div.sk-parallel-item:only-child::after {width: 0;}#sk-container-id-10 div.sk-dashed-wrapped {border: 1px dashed gray;margin: 0 0.4em 0.5em 0.4em;box-sizing: border-box;padding-bottom: 0.4em;background-color: white;}#sk-container-id-10 div.sk-label label {font-family: monospace;font-weight: bold;display: inline-block;line-height: 1.2em;}#sk-container-id-10 div.sk-label-container {text-align: center;}#sk-container-id-10 div.sk-container {/* jupyter's `normalize.less` sets `[hidden] { display: none; }` but bootstrap.min.css set `[hidden] { display: none !important; }` so we also need the `!important` here to be able to override the default hidden behavior on the sphinx rendered scikit-learn.org. See: https://github.com/scikit-learn/scikit-learn/issues/21755 */display: inline-block !important;position: relative;}#sk-container-id-10 div.sk-text-repr-fallback {display: none;}</style><div id=\"sk-container-id-10\" class=\"sk-top-container\"><div class=\"sk-text-repr-fallback\"><pre>RandomForestClassifier(max_depth=3, n_estimators=250, random_state=101)</pre><b>In a Jupyter environment, please rerun this cell to show the HTML representation or trust the notebook. <br />On GitHub, the HTML representation is unable to render, please try loading this page with nbviewer.org.</b></div><div class=\"sk-container\" hidden><div class=\"sk-item\"><div class=\"sk-estimator sk-toggleable\"><input class=\"sk-toggleable__control sk-hidden--visually\" id=\"sk-estimator-id-10\" type=\"checkbox\" checked><label for=\"sk-estimator-id-10\" class=\"sk-toggleable__label sk-toggleable__label-arrow\">RandomForestClassifier</label><div class=\"sk-toggleable__content\"><pre>RandomForestClassifier(max_depth=3, n_estimators=250, random_state=101)</pre></div></div></div></div></div>"
      ],
      "text/plain": [
       "RandomForestClassifier(max_depth=3, n_estimators=250, random_state=101)"
      ]
     },
     "execution_count": 218,
     "metadata": {},
     "output_type": "execute_result"
    }
   ],
   "source": [
    "# Load library\n",
    "from sklearn.ensemble import RandomForestClassifier\n",
    "\n",
    "# Set Hyperparameters\n",
    "N_TREES = 250\n",
    "N_DEPTH = 3\n",
    "\n",
    "# Train model\n",
    "model_rf = RandomForestClassifier(n_estimators=N_TREES, max_depth=N_DEPTH, random_state=RANDOM_STATE)\n",
    "\n",
    "model_rf.fit(X_train_ready, y_train)"
   ]
  },
  {
   "cell_type": "code",
   "execution_count": 219,
   "id": "9c2f2397-fe86-4d4c-abd1-69e1b4fed5eb",
   "metadata": {
    "tags": []
   },
   "outputs": [],
   "source": [
    "# Evaluate model\n",
    "y_pred_rf = model_rf.predict(X_val_ready)"
   ]
  },
  {
   "cell_type": "code",
   "execution_count": 220,
   "id": "1464ce09-a924-4069-be1f-f0a60c920990",
   "metadata": {
    "tags": []
   },
   "outputs": [
    {
     "data": {
      "image/png": "[encoded data removed]",
      "text/plain": [
       "<Figure size 640x480 with 2 Axes>"
      ]
     },
     "metadata": {},
     "output_type": "display_data"
    }
   ],
   "source": [
    "# Display confusion matrix\n",
    "cm_rf = confusion_matrix(y_true=y_val, y_pred=y_pred_rf)\n",
    "disp = ConfusionMatrixDisplay(confusion_matrix=cm_rf, display_labels=model_rf.classes_)\n",
    "disp.plot()\n",
    "\n",
    "plt.show()"
   ]
  },
  {
   "cell_type": "code",
   "execution_count": 221,
   "id": "72e7c338-92de-4677-85b5-9236559b5396",
   "metadata": {
    "tags": []
   },
   "outputs": [
    {
     "data": {
      "text/plain": [
       "0.7159153803579116"
      ]
     },
     "execution_count": 221,
     "metadata": {},
     "output_type": "execute_result"
    }
   ],
   "source": [
    "# Calculate AUC\n",
    "y_pred_prob_rf = model_rf.predict_proba(X_val_ready)\n",
    "\n",
    "auc_rf = roc_auc_score(y_val, y_pred_prob_rf[:, -1])\n",
    "auc_rf"
   ]
  },
  {
   "cell_type": "code",
   "execution_count": 222,
   "id": "463e6b30-b128-4b94-8ca8-1f4183cfd612",
   "metadata": {
    "tags": []
   },
   "outputs": [
    {
     "data": {
      "image/png": "[encoded data removed]",
      "text/plain": [
       "<Figure size 640x480 with 1 Axes>"
      ]
     },
     "metadata": {},
     "output_type": "display_data"
    }
   ],
   "source": [
    "# ROC for RF\n",
    "fpr_rf, tpr_rf, th_rf = roc_curve(y_val, y_pred_prob_rf[:, -1])\n",
    "\n",
    "plot_roc_curve([fpr_rf], [tpr_rf], label_list=['RF'], auc_list=[auc_rf])"
   ]
  },
  {
   "cell_type": "markdown",
   "id": "6d62d30e-5ea2-402c-b7ee-209cac755fb5",
   "metadata": {},
   "source": [
    "### Gradient Boosting - Catboost"
   ]
  },
  {
   "cell_type": "code",
   "execution_count": 223,
   "id": "20073154-8637-4620-9d9f-88277116e249",
   "metadata": {
    "tags": []
   },
   "outputs": [
    {
     "data": {
      "text/plain": [
       "<catboost.core.CatBoostClassifier at 0x1f52051fcd0>"
      ]
     },
     "execution_count": 223,
     "metadata": {},
     "output_type": "execute_result"
    }
   ],
   "source": [
    "# Import library\n",
    "from catboost import CatBoostClassifier\n",
    "\n",
    "# Set Hyperparameters\n",
    "N_TREES = 250\n",
    "LEARNING_RATE = 0.001\n",
    "N_DEPTH = 5\n",
    "\n",
    "# Train model\n",
    "model_cb = CatBoostClassifier(iterations=N_TREES,\n",
    "                              learning_rate=LEARNING_RATE,\n",
    "                              depth=N_DEPTH, \n",
    "                              verbose=0)\n",
    "# Fit model\n",
    "model_cb.fit(X_train_ready, y_train)"
   ]
  },
  {
   "cell_type": "code",
   "execution_count": 224,
   "id": "e58fb8fa-4f4b-4344-8e36-7ff98724eae8",
   "metadata": {
    "tags": []
   },
   "outputs": [],
   "source": [
    "# Evaluate model\n",
    "y_pred_cb = model_cb.predict(X_val_ready)"
   ]
  },
  {
   "cell_type": "code",
   "execution_count": 225,
   "id": "43ca42c1-62bd-4f01-b3b5-f6264486d26f",
   "metadata": {
    "tags": []
   },
   "outputs": [
    {
     "data": {
      "image/png": "[encoded data removed]",
      "text/plain": [
       "<Figure size 640x480 with 2 Axes>"
      ]
     },
     "metadata": {},
     "output_type": "display_data"
    }
   ],
   "source": [
    "# Display confusion matrix\n",
    "cm_cb = confusion_matrix(y_true=y_val, y_pred=y_pred_cb)\n",
    "disp = ConfusionMatrixDisplay(confusion_matrix=cm_cb, display_labels=model_cb.classes_)\n",
    "disp.plot()\n",
    "\n",
    "plt.show()"
   ]
  },
  {
   "cell_type": "code",
   "execution_count": 226,
   "id": "14495f09-a961-447b-914a-6eb5279f280e",
   "metadata": {
    "tags": []
   },
   "outputs": [
    {
     "data": {
      "text/plain": [
       "0.7188672283377406"
      ]
     },
     "execution_count": 226,
     "metadata": {},
     "output_type": "execute_result"
    }
   ],
   "source": [
    "# Calculate AUC\n",
    "y_pred_prob_cb = model_cb.predict_proba(X_val_ready)\n",
    "\n",
    "auc_cb = roc_auc_score(y_val, y_pred_prob_cb[:, -1])\n",
    "auc_cb"
   ]
  },
  {
   "cell_type": "code",
   "execution_count": 227,
   "id": "82e5e39e-7f86-4043-9949-4e7279c82482",
   "metadata": {
    "tags": []
   },
   "outputs": [
    {
     "data": {
      "image/png": "[encoded data removed]",
      "text/plain": [
       "<Figure size 640x480 with 1 Axes>"
      ]
     },
     "metadata": {},
     "output_type": "display_data"
    }
   ],
   "source": [
    "# ROC for RF\n",
    "fpr_cb, tpr_cb, th_cb = roc_curve(y_val, y_pred_prob_cb[:, -1])\n",
    "\n",
    "plot_roc_curve([fpr_cb], [tpr_cb], label_list=['CB'], auc_list=[auc_cb])"
   ]
  },
  {
   "cell_type": "markdown",
   "id": "199cd27e-9981-4ef4-b90d-3461aa5a838e",
   "metadata": {},
   "source": [
    "## Compare model performance for different ML algorithms"
   ]
  },
  {
   "cell_type": "code",
   "execution_count": 228,
   "id": "dc3653fe-8764-4e29-af64-946184e1644a",
   "metadata": {
    "tags": []
   },
   "outputs": [
    {
     "data": {
      "image/png": "[encoded data removed]",
      "text/plain": [
       "<Figure size 640x480 with 1 Axes>"
      ]
     },
     "metadata": {},
     "output_type": "display_data"
    }
   ],
   "source": [
    "# Compare models using ROC curve\n",
    "plot_roc_curve([fpr_lr, fpr_knn, fpr_rf, fpr_cb], \n",
    "               [tpr_lr, tpr_knn, tpr_rf, tpr_cb], \n",
    "               label_list=['LR', 'KNN', 'RF', 'CB'], \n",
    "               auc_list=[auc_lr, auc_knn, auc_rf, auc_cb])"
   ]
  },
  {
   "cell_type": "markdown",
   "id": "1c0202dd-951d-45a2-915a-e36b48d93926",
   "metadata": {},
   "source": [
    "# 4. Improve model performance"
   ]
  },
  {
   "cell_type": "markdown",
   "id": "2a1d2dcc-f6dd-433d-923a-762e0b0f7bd0",
   "metadata": {},
   "source": [
    "## 4.1 Address class imbalance"
   ]
  },
  {
   "cell_type": "code",
   "execution_count": 229,
   "id": "1da81b2a-bd0a-4f45-ae37-b5de208a7b72",
   "metadata": {
    "tags": []
   },
   "outputs": [
    {
     "data": {
      "text/html": [
       "<div>\n",
       "<style scoped>\n",
       "    .dataframe tbody tr th:only-of-type {\n",
       "        vertical-align: middle;\n",
       "    }\n",
       "\n",
       "    .dataframe tbody tr th {\n",
       "        vertical-align: top;\n",
       "    }\n",
       "\n",
       "    .dataframe thead th {\n",
       "        text-align: right;\n",
       "    }\n",
       "</style>\n",
       "<table border=\"1\" class=\"dataframe\">\n",
       "  <thead>\n",
       "    <tr style=\"text-align: right;\">\n",
       "      <th></th>\n",
       "      <th>target</th>\n",
       "    </tr>\n",
       "  </thead>\n",
       "  <tbody>\n",
       "    <tr>\n",
       "      <th>0</th>\n",
       "      <td>1</td>\n",
       "    </tr>\n",
       "    <tr>\n",
       "      <th>1</th>\n",
       "      <td>0</td>\n",
       "    </tr>\n",
       "    <tr>\n",
       "      <th>2</th>\n",
       "      <td>0</td>\n",
       "    </tr>\n",
       "    <tr>\n",
       "      <th>3</th>\n",
       "      <td>1</td>\n",
       "    </tr>\n",
       "    <tr>\n",
       "      <th>4</th>\n",
       "      <td>1</td>\n",
       "    </tr>\n",
       "    <tr>\n",
       "      <th>...</th>\n",
       "      <td>...</td>\n",
       "    </tr>\n",
       "    <tr>\n",
       "      <th>1042</th>\n",
       "      <td>0</td>\n",
       "    </tr>\n",
       "    <tr>\n",
       "      <th>1043</th>\n",
       "      <td>1</td>\n",
       "    </tr>\n",
       "    <tr>\n",
       "      <th>1044</th>\n",
       "      <td>0</td>\n",
       "    </tr>\n",
       "    <tr>\n",
       "      <th>1045</th>\n",
       "      <td>1</td>\n",
       "    </tr>\n",
       "    <tr>\n",
       "      <th>1046</th>\n",
       "      <td>1</td>\n",
       "    </tr>\n",
       "  </tbody>\n",
       "</table>\n",
       "<p>1047 rows × 1 columns</p>\n",
       "</div>"
      ],
      "text/plain": [
       "      target\n",
       "0          1\n",
       "1          0\n",
       "2          0\n",
       "3          1\n",
       "4          1\n",
       "...      ...\n",
       "1042       0\n",
       "1043       1\n",
       "1044       0\n",
       "1045       1\n",
       "1046       1\n",
       "\n",
       "[1047 rows x 1 columns]"
      ]
     },
     "execution_count": 229,
     "metadata": {},
     "output_type": "execute_result"
    }
   ],
   "source": [
    "y_train_df = pd.DataFrame({\n",
    "    'target': y_train\n",
    "})\n",
    "\n",
    "y_train_df"
   ]
  },
  {
   "cell_type": "code",
   "execution_count": 230,
   "id": "a1d1d626-c89a-4bcb-aac5-73c5e5206032",
   "metadata": {
    "tags": []
   },
   "outputs": [
    {
     "name": "stdout",
     "output_type": "stream",
     "text": [
      "downsampled (808, 13)\n"
     ]
    }
   ],
   "source": [
    "# combine X_train and y_train into a single DataFrame\n",
    "y_train_df = pd.DataFrame({\n",
    "    'target': y_train\n",
    "})\n",
    "\n",
    "train_data = pd.concat([X_train_ready, y_train_df], axis=1)\n",
    "\n",
    "# separate instances of each class\n",
    "negative_class = train_data[train_data.target==0]\n",
    "positive_class = train_data[train_data.target==1]\n",
    "\n",
    "# randomly undersample the majority class\n",
    "from sklearn.utils import resample\n",
    "\n",
    "RANDOM_STATE = 101\n",
    "\n",
    "negative_class_downsampled = resample(negative_class,\n",
    "                                       replace=False,     # sample without replacement\n",
    "                                       n_samples=len(positive_class),  # match minority class\n",
    "                                       random_state=RANDOM_STATE)   # reproducible results\n",
    "\n",
    "# combine minority class and downsampled majority class\n",
    "downsampled = pd.concat([negative_class_downsampled, positive_class])\n",
    "print('downsampled', downsampled.shape)\n",
    "\n",
    "# separate input features and target variable\n",
    "X_train_downsampled = downsampled.drop('target', axis=1)\n",
    "y_train_downsampled = downsampled['target']"
   ]
  },
  {
   "cell_type": "code",
   "execution_count": 231,
   "id": "88d988df-b4c6-441a-84fb-81902fb98165",
   "metadata": {
    "tags": []
   },
   "outputs": [
    {
     "data": {
      "text/plain": [
       "0    0.5\n",
       "1    0.5\n",
       "Name: target, dtype: float64"
      ]
     },
     "execution_count": 231,
     "metadata": {},
     "output_type": "execute_result"
    }
   ],
   "source": [
    "y_train_downsampled.value_counts(normalize=True)"
   ]
  },
  {
   "cell_type": "code",
   "execution_count": 232,
   "id": "b10b5cd5-4d82-4baf-b0a3-4fb972ab7ef6",
   "metadata": {
    "tags": []
   },
   "outputs": [
    {
     "data": {
      "text/plain": [
       "0.7225570383125269"
      ]
     },
     "execution_count": 232,
     "metadata": {},
     "output_type": "execute_result"
    }
   ],
   "source": [
    "# Re-train LR after downsampling   ########################################################################################################################\n",
    "\n",
    "# Train\n",
    "RANDOM_STATE = 101\n",
    "model_lr_downsampled = LogisticRegression(random_state=RANDOM_STATE, max_iter=1000)\n",
    "model_lr_downsampled.fit(X_train_downsampled, y_train_downsampled)\n",
    "\n",
    "# Evaluate model\n",
    "y_pred_lr = model_lr_downsampled.predict(X_val_ready)\n",
    "\n",
    "# Evaluate\n",
    "y_pred_prob_lr = model_lr_downsampled.predict_proba(X_val_ready)\n",
    "auc_lr_after = roc_auc_score(y_val, y_pred_prob_lr[:, -1])\n",
    "auc_lr_after"
   ]
  },
  {
   "cell_type": "code",
   "execution_count": 233,
   "id": "0f36fbe5-136e-4d59-8ab8-e6f1a4738829",
   "metadata": {
    "tags": []
   },
   "outputs": [
    {
     "data": {
      "text/plain": [
       "0.7223110509808744"
      ]
     },
     "execution_count": 233,
     "metadata": {},
     "output_type": "execute_result"
    }
   ],
   "source": [
    "auc_lr"
   ]
  },
  {
   "cell_type": "code",
   "execution_count": 234,
   "id": "5a215888-bc14-43e0-8a50-a984ec2f8018",
   "metadata": {
    "tags": []
   },
   "outputs": [
    {
     "data": {
      "image/png": "[encoded data removed]",
      "text/plain": [
       "<Figure size 640x480 with 2 Axes>"
      ]
     },
     "metadata": {},
     "output_type": "display_data"
    }
   ],
   "source": [
    "# Display confusion matrix\n",
    "cm_lr_after = confusion_matrix(y_true=y_val, y_pred=y_pred_lr)\n",
    "disp = ConfusionMatrixDisplay(confusion_matrix=cm_lr_after, display_labels=model_lr_downsampled.classes_)\n",
    "disp.plot()\n",
    "\n",
    "plt.show()"
   ]
  },
  {
   "cell_type": "code",
   "execution_count": 235,
   "id": "7d26dd8e-5b78-4e82-b132-432ca34e63e2",
   "metadata": {
    "tags": []
   },
   "outputs": [
    {
     "data": {
      "image/png": "[encoded data removed]",
      "text/plain": [
       "<Figure size 640x480 with 1 Axes>"
      ]
     },
     "metadata": {},
     "output_type": "display_data"
    }
   ],
   "source": [
    "# ROC\n",
    "fpr_lr, tpr_lr, th_lr = roc_curve(y_val, y_pred_prob_lr[:, -1])\n",
    "\n",
    "plot_roc_curve([fpr_lr], [tpr_lr], label_list=['LR'], auc_list=[auc_lr_after])"
   ]
  },
  {
   "cell_type": "code",
   "execution_count": null,
   "id": "ab5ae594-af09-45cf-ac03-264c861fe89d",
   "metadata": {},
   "outputs": [],
   "source": []
  },
  {
   "cell_type": "markdown",
   "id": "ac9266e7-ec4d-4a6e-b5ae-cd37cb8d3d2d",
   "metadata": {},
   "source": [
    "## 5. Feature Importance"
   ]
  },
  {
   "cell_type": "code",
   "execution_count": 236,
   "id": "1b5a2ad2-86d5-480e-91bb-b93aa6f894a5",
   "metadata": {
    "tags": []
   },
   "outputs": [
    {
     "data": {
      "text/plain": [
       "array([ 40.49899122,  24.89914995,  22.77177278,  24.21752336,\n",
       "        57.51131286,  15.09351887,  72.59627909, 100.        ,\n",
       "        99.99144737,  12.54375668,  27.28558828,  14.73327897])"
      ]
     },
     "execution_count": 236,
     "metadata": {},
     "output_type": "execute_result"
    }
   ],
   "source": [
    "# Calculate feature importance\n",
    "feature_importance = abs(model_lr.coef_[0])\n",
    "feature_importance = 100.0 * (feature_importance / feature_importance.max())\n",
    "\n",
    "feature_importance"
   ]
  },
  {
   "cell_type": "code",
   "execution_count": 237,
   "id": "1426a20c-aaf9-43f8-b0db-f9464d12f4c0",
   "metadata": {
    "tags": []
   },
   "outputs": [],
   "source": [
    "# Custom function for Feature Importance for LR\n",
    "import numpy as np\n",
    "\n",
    "def plot_feature_importance_lr(lr_model, colnames_x, threshold_importance=None):\n",
    "    # Compute feature importance\n",
    "    feature_importance = abs(lr_model.coef_[0])\n",
    "    feature_importance = 100.0 * (feature_importance / feature_importance.max())\n",
    "\n",
    "    # Keep strong importance\n",
    "    if threshold_importance is not None:\n",
    "        feature_importance = feature_importance[feature_importance > threshold_importance]\n",
    "\n",
    "    # Plot importance\n",
    "    idx_sorted = np.argsort(feature_importance)\n",
    "    pos = np.arange(idx_sorted.shape[0]) + 0.5\n",
    "\n",
    "    fig = plt.figure()\n",
    "    ax = fig.add_subplot(1, 1, 1)\n",
    "    \n",
    "    ax.barh(pos, feature_importance[idx_sorted], align='center')\n",
    "    ax.set_yticks(pos)\n",
    "    ax.set_yticklabels(np.array(X.columns)[idx_sorted], fontsize=12)\n",
    "    ax.set_xlabel('Relative Feature Importance')\n",
    "    \n",
    "    plt.tight_layout()   \n",
    "    plt.show()"
   ]
  },
  {
   "cell_type": "code",
   "execution_count": 238,
   "id": "ea4ce5c8-e571-4c3b-bfe8-b9187f9cb8e2",
   "metadata": {
    "tags": []
   },
   "outputs": [
    {
     "ename": "IndexError",
     "evalue": "index 9 is out of bounds for axis 0 with size 7",
     "output_type": "error",
     "traceback": [
      "\u001b[1;31m---------------------------------------------------------------------------\u001b[0m",
      "\u001b[1;31mIndexError\u001b[0m                                Traceback (most recent call last)",
      "Cell \u001b[1;32mIn[238], line 1\u001b[0m\n\u001b[1;32m----> 1\u001b[0m plot_feature_importance_lr(model_lr, colnames_x\u001b[38;5;241m=\u001b[39mX_train_ready\u001b[38;5;241m.\u001b[39mcolumns, threshold_importance\u001b[38;5;241m=\u001b[39m\u001b[38;5;241m15\u001b[39m)\n",
      "Cell \u001b[1;32mIn[237], line 22\u001b[0m, in \u001b[0;36mplot_feature_importance_lr\u001b[1;34m(lr_model, colnames_x, threshold_importance)\u001b[0m\n\u001b[0;32m     20\u001b[0m ax\u001b[38;5;241m.\u001b[39mbarh(pos, feature_importance[idx_sorted], align\u001b[38;5;241m=\u001b[39m\u001b[38;5;124m'\u001b[39m\u001b[38;5;124mcenter\u001b[39m\u001b[38;5;124m'\u001b[39m)\n\u001b[0;32m     21\u001b[0m ax\u001b[38;5;241m.\u001b[39mset_yticks(pos)\n\u001b[1;32m---> 22\u001b[0m ax\u001b[38;5;241m.\u001b[39mset_yticklabels(np\u001b[38;5;241m.\u001b[39marray(X\u001b[38;5;241m.\u001b[39mcolumns)[idx_sorted], fontsize\u001b[38;5;241m=\u001b[39m\u001b[38;5;241m12\u001b[39m)\n\u001b[0;32m     23\u001b[0m ax\u001b[38;5;241m.\u001b[39mset_xlabel(\u001b[38;5;124m'\u001b[39m\u001b[38;5;124mRelative Feature Importance\u001b[39m\u001b[38;5;124m'\u001b[39m)\n\u001b[0;32m     25\u001b[0m plt\u001b[38;5;241m.\u001b[39mtight_layout()   \n",
      "\u001b[1;31mIndexError\u001b[0m: index 9 is out of bounds for axis 0 with size 7"
     ]
    },
    {
     "data": {
      "image/png": "[encoded data removed]",
      "text/plain": [
       "<Figure size 640x480 with 1 Axes>"
      ]
     },
     "metadata": {},
     "output_type": "display_data"
    }
   ],
   "source": [
    "plot_feature_importance_lr(model_lr, colnames_x=X_train_ready.columns, threshold_importance=15)"
   ]
  },
  {
   "cell_type": "code",
   "execution_count": null,
   "id": "67fa91ec-511c-4c56-8481-884f59326a60",
   "metadata": {
    "tags": []
   },
   "outputs": [],
   "source": [
    "# Save model for later use   ##################################################################################################################\n",
    "\n",
    "# Import library\n",
    "import joblib\n",
    "\n",
    "# Save model\n",
    "joblib.dump(model_lr_downsampled, 'model_lr.pkl')"
   ]
  },
  {
   "cell_type": "markdown",
   "id": "eaad522d-f36c-4b54-8a9c-793505fb764c",
   "metadata": {},
   "source": [
    "# 6. Load saved model and do predictions"
   ]
  },
  {
   "cell_type": "code",
   "execution_count": null,
   "id": "b3b693ca-da9a-42ed-bb37-6f6e4496ec01",
   "metadata": {
    "tags": []
   },
   "outputs": [],
   "source": [
    "# Load saved model\n",
    "\n",
    "loaded_model = joblib.load('model_lr.pkl')"
   ]
  },
  {
   "cell_type": "code",
   "execution_count": null,
   "id": "c2c74994-eb45-4380-bbec-b063196907be",
   "metadata": {
    "tags": []
   },
   "outputs": [],
   "source": [
    "loaded_model"
   ]
  },
  {
   "cell_type": "code",
   "execution_count": null,
   "id": "d7591ed2-318b-4179-8513-a2f5739afb11",
   "metadata": {
    "tags": []
   },
   "outputs": [],
   "source": [
    "# Do prediction\n",
    "y_pred = loaded_model.predict(X_val_ready)"
   ]
  },
  {
   "cell_type": "code",
   "execution_count": null,
   "id": "7553c334-9b30-4167-98f8-1ce69e29558a",
   "metadata": {
    "tags": []
   },
   "outputs": [],
   "source": [
    "y_pred"
   ]
  },
  {
   "cell_type": "code",
   "execution_count": null,
   "id": "7acb219b-2a62-424f-bf45-9ee02f74d55e",
   "metadata": {
    "tags": []
   },
   "outputs": [],
   "source": [
    "len(y_pred)"
   ]
  },
  {
   "cell_type": "code",
   "execution_count": null,
   "id": "305e960a-11e5-4504-b9c7-d46f99cd7a65",
   "metadata": {
    "tags": []
   },
   "outputs": [],
   "source": [
    "np.unique(y_pred, return_counts=True)"
   ]
  },
  {
   "cell_type": "code",
   "execution_count": null,
   "id": "71de3a87-124d-457f-8ac8-482e2881c88b",
   "metadata": {},
   "outputs": [],
   "source": []
  }
 ],
 "metadata": {
  "kernelspec": {
   "display_name": "Python 3 (ipykernel)",
   "language": "python",
   "name": "python3"
  },
  "language_info": {
   "codemirror_mode": {
    "name": "ipython",
    "version": 3
   },
   "file_extension": ".py",
   "mimetype": "text/x-python",
   "name": "python",
   "nbconvert_exporter": "python",
   "pygments_lexer": "ipython3",
   "version": "3.11.3"
  }
 },
 "nbformat": 4,
 "nbformat_minor": 5
}
